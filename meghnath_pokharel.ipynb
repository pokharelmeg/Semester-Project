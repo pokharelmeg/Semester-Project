{
 "cells": [
  {
   "cell_type": "code",
   "execution_count": 2,
   "metadata": {},
   "outputs": [],
   "source": [
    "# Importing Module\n",
    "import glob"
   ]
  },
  {
   "cell_type": "code",
   "execution_count": 3,
   "metadata": {},
   "outputs": [
    {
     "name": "stdout",
     "output_type": "stream",
     "text": [
      "C:\\Users\\mns_p\\Desktop\\Semester-Project\n"
     ]
    }
   ],
   "source": [
    "# Navigating to my working directory where the file is located using glob module\n",
    "print(glob.os.getcwd())\n",
    "\n",
    "# Changing directory to the 'Datasets' folder where the file is located \n",
    "#glob.os.chdir('..')\n",
    "glob.os.chdir('../Spring-2020/Datasets') \n",
    "\n",
    "# Reading the DNA sequences\n",
    "dna = open('dna_sequence.txt').read().split('\\n')\n",
    "\n",
    "# Extracting the list from the 8th row to the end of the file \n",
    "dna = dna[8:]\n",
    "\n",
    "# Concatenate strigs in list using custom delimiter\n",
    "dna = ''.join(dna)\n"
   ]
  },
  {
   "cell_type": "code",
   "execution_count": 4,
   "metadata": {},
   "outputs": [],
   "source": [
    "# Defining the DNAMatching function\n",
    "def dnamatching(dna):\n",
    "    \"\"\"\n",
    "    Function that finds the complementary DNA sequence of the corresponding DNA sequeces.    \n",
    "    \n",
    "    Input variables:\n",
    "    A,T,C,G -- long chain of nitogen base pairs\n",
    "    format -- strings\n",
    "    \n",
    "    Author: Meghnath Pokharel\n",
    "    Date: 25-Feb-2020  \n",
    "    \"\"\"\n",
    "   \n",
    "    newdna = []                                 # New complementary DNA Strand\n",
    "\n",
    "    for nucleotide in dna:                       # For loops   \n",
    "\n",
    "        if nucleotide == 'G':                    # If there is 'G' in the coresponding DNA sequence, then it keeps adding the'C' which is the complementary base pair of  \n",
    "            newdna.append('C')\n",
    "            continue            \n",
    "        if nucleotide == 'A':                    # If there is 'A' in the coresponding DNA sequence, then it keeps adding the'T' which is the complementary base pair of 'A'\n",
    "            newdna.append('T')\n",
    "            continue         \n",
    "        if nucleotide == 'T':                     # If there is 'T' in the coresponding DNA sequence, then it keeps adding the'A' which is the complementary base pair of 'T'    \n",
    "            newdna.append('A')\n",
    "            continue       \n",
    "        if nucleotide == 'C':                     # If there is 'C' in the coresponding DNA sequence, then it keeps adding the'G' which is the complementary base pair of 'C'     \n",
    "            newdna.append('G')\n",
    "            continue\n",
    "        else:                                      # If the function find the unknow base other than A, T, C, G, in the coresponding DNA sequence, then it breaks  \n",
    "            print('Uknown base found:', nucleotide)\n",
    "            break\n",
    "    newdna = ''.join(newdna)\n",
    "    return newdna"
   ]
  },
  {
   "cell_type": "code",
   "execution_count": 6,
   "metadata": {},
   "outputs": [],
   "source": [
    "# Call function  \n",
    "matchingDNA = dnamatching(dna)\n",
    "\n"
   ]
  },
  {
   "cell_type": "code",
   "execution_count": null,
   "metadata": {},
   "outputs": [],
   "source": []
  }
 ],
 "metadata": {
  "kernelspec": {
   "display_name": "Python 3",
   "language": "python",
   "name": "python3"
  },
  "language_info": {
   "codemirror_mode": {
    "name": "ipython",
    "version": 3
   },
   "file_extension": ".py",
   "mimetype": "text/x-python",
   "name": "python",
   "nbconvert_exporter": "python",
   "pygments_lexer": "ipython3",
   "version": "3.7.1"
  }
 },
 "nbformat": 4,
 "nbformat_minor": 2
}
