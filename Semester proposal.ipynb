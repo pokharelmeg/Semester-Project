{
 "cells": [
  {
   "cell_type": "markdown",
   "metadata": {},
   "source": [
    "# Objective"
   ]
  },
  {
   "cell_type": "markdown",
   "metadata": {},
   "source": [
    "# Outcomes"
   ]
  },
  {
   "cell_type": "markdown",
   "metadata": {},
   "source": [
    "# Rationale\n",
    "Canola (Brassica napus L.) is an economically valuable oilseed crop and the cultivation of canola is expanding due to its importance in oilseed and bio-diesel industry (FAO 2006). Climate models predict that daily minimum temperature is increasing more than twice that of daily maximum temperature (Vose et al. 2005). Being a cool season winter crop, canola production is extremely sensitive to small variation in temperature particularly during reproductive stages (Angadi et al. 2000) and pod filling (Young et. al., 2004). Similarly, Canola seed composition is significantly influenced by environmental conditions, particularly by temperature changes during seed development (Brunel-Muguet et al., 2015). High day time temperature has shown to negatively affect seed yield and oil formation however, the same with high night temperature is still not known. As a graduate student, I have been exploring the impact of HNT in winter canola from controlled environment chambers. Thus, my goal is to learn python to effectively assess the HNT impacts on yield and oil formation in canola."
   ]
  },
  {
   "cell_type": "markdown",
   "metadata": {},
   "source": [
    "# Sketch\n"
   ]
  },
  {
   "cell_type": "markdown",
   "metadata": {},
   "source": [
    "# References\n",
    "Angadi, S. V., Cutforth, H. W., Miller, P. R., McConkey, B. G., Entz, M. H., Brandt, S. A., & Volkmar, K. M. (2000). Response of three Brassica species to high temperature stress during reproductive growth. Canadian Journal of Plant Science, 80(4), 693-701. \n",
    "Young, L. W., Wilen, R. W., & Bonham‐Smith, P. C. (2004). High temperature stress of Brassica napus during flowering reduces micro‐and megagametophyte fertility, induces fruit abortion, and disrupts seed production. Journal of Experimental Botany, 55(396), 485-495. \n"
   ]
  },
  {
   "cell_type": "code",
   "execution_count": null,
   "metadata": {},
   "outputs": [],
   "source": []
  }
 ],
 "metadata": {
  "kernelspec": {
   "display_name": "Python 3",
   "language": "python",
   "name": "python3"
  },
  "language_info": {
   "codemirror_mode": {
    "name": "ipython",
    "version": 3
   },
   "file_extension": ".py",
   "mimetype": "text/x-python",
   "name": "python",
   "nbconvert_exporter": "python",
   "pygments_lexer": "ipython3",
   "version": "3.7.1"
  }
 },
 "nbformat": 4,
 "nbformat_minor": 2
}
