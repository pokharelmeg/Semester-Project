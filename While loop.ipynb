{
 "cells": [
  {
   "cell_type": "code",
   "execution_count": 1,
   "metadata": {},
   "outputs": [
    {
     "name": "stdout",
     "output_type": "stream",
     "text": [
      "0\n",
      "1\n",
      "2\n"
     ]
    }
   ],
   "source": [
    "A= 0\n",
    "while A < 3:\n",
    "    print(A)\n",
    "    A+= 1"
   ]
  },
  {
   "cell_type": "code",
   "execution_count": 2,
   "metadata": {},
   "outputs": [],
   "source": [
    "## guessing the number"
   ]
  },
  {
   "cell_type": "code",
   "execution_count": 3,
   "metadata": {},
   "outputs": [],
   "source": [
    "import random\n"
   ]
  },
  {
   "cell_type": "code",
   "execution_count": 4,
   "metadata": {},
   "outputs": [
    {
     "ename": "SyntaxError",
     "evalue": "invalid syntax (<ipython-input-4-5520c8e7a921>, line 3)",
     "output_type": "error",
     "traceback": [
      "\u001b[1;36m  File \u001b[1;32m\"<ipython-input-4-5520c8e7a921>\"\u001b[1;36m, line \u001b[1;32m3\u001b[0m\n\u001b[1;33m    computer_number = random.\u001b[0m\n\u001b[1;37m                             ^\u001b[0m\n\u001b[1;31mSyntaxError\u001b[0m\u001b[1;31m:\u001b[0m invalid syntax\n"
     ]
    }
   ],
   "source": [
    "min_value = 1\n",
    "max_value = 10\n",
    "computer_number = random."
   ]
  },
  {
   "cell_type": "code",
   "execution_count": 11,
   "metadata": {},
   "outputs": [
    {
     "name": "stdout",
     "output_type": "stream",
     "text": [
      "Hours: 300\n",
      "Tank level when full 1500\n"
     ]
    }
   ],
   "source": [
    "# Importing \n",
    "import math\n",
    "# Initial conditions\n",
    "tank_capacity = 1500 # gal/hr\n",
    "tank_level = 600 # gal/hr\n",
    "inflow_rate = 9 # gal/hr\n",
    "outflow_rate = 6 # gal/hr\n",
    "\n",
    "counter_hours = 0\n",
    "while tank_level < tank_capacity:\n",
    "    #Salt amount\n",
    "    salt_inflow = 1/5* (1 +math.cos( counter_hours))\n",
    "    # water level\n",
    "    tank_level = tank_level + inflow_rate - outflow_rate\n",
    "    counter_hours = counter_hours + 1 \n",
    "    \n",
    "print('Hours:', counter_hours)\n",
    "print('Tank level when full', tank_level)\n",
    "    \n"
   ]
  },
  {
   "cell_type": "code",
   "execution_count": null,
   "metadata": {},
   "outputs": [],
   "source": [
    "\n"
   ]
  }
 ],
 "metadata": {
  "kernelspec": {
   "display_name": "Python 3",
   "language": "python",
   "name": "python3"
  },
  "language_info": {
   "codemirror_mode": {
    "name": "ipython",
    "version": 3
   },
   "file_extension": ".py",
   "mimetype": "text/x-python",
   "name": "python",
   "nbconvert_exporter": "python",
   "pygments_lexer": "ipython3",
   "version": "3.7.1"
  }
 },
 "nbformat": 4,
 "nbformat_minor": 2
}
