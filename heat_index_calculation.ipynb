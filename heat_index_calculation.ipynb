{
 "cells": [
  {
   "cell_type": "markdown",
   "metadata": {},
   "source": [
    "**<font size=\"5\">Calculation of heat susceptibility index to measure the high night temperature tolerance in winter canola</font>**"
   ]
  },
  {
   "cell_type": "markdown",
   "metadata": {},
   "source": [
    "This project aims to write the python codes to calculate the heat susceptibility indices (HSI) for yield in response to high night temperature (HNT) in winter canola genotypes. HSI is widely used to classify large number of genotypes in to tolerent and susceptible genotypes based on yield response under stressful environments. \n",
    "HSI is calculated using the following formula as by Fisher and Maurer (1978).\n",
    "\n",
    "$$HSI = \\frac{1-\\frac{YD}{YP}}{D}$$\n",
    "\n",
    " HSI= Heat susceptibility index\n",
    " \n",
    " YD = mean of the trait for each genotype under HNT stress\n",
    " \n",
    " YP = mean of the trait for each genotype under control\n",
    " \n",
    " D = 1- [mean YD of all genotypes under HNT/mean YP of all genotypes under Control]"
   ]
  },
  {
   "cell_type": "markdown",
   "metadata": {},
   "source": [
    "**Inputs**: \n",
    "\n",
    "This program uses a total seed weight per plant(g) data file collected from ten canola genotypes under control and HNT exposure for calculating heat susceptibility indices. The data file contains four columns: geno, trt, rep and TSW.\n",
    "\n",
    "`geno` represents genotypes of winter canola.\n",
    "\n",
    "`trt` represents treatments used in the experiments.\n",
    "* Control (23/15°C: day/night) and HNT (23/20°C: day/night) are the two trearments.\n",
    "\n",
    "`rep` represents the replications within the treatments.\n",
    "\n",
    "`TSW` represents total seed weight per plant (g). "
   ]
  },
  {
   "cell_type": "markdown",
   "metadata": {},
   "source": [
    "**Outputs** \n",
    "1. Heat susceptibility index values for yield in ten canola genotypes (table).\n",
    "\n",
    "2. Identification of tolerant and susceptible canola genotypes based on calculated HSI values.\n",
    "\n",
    "3. Analysis of variance (ANOVA) \n"
   ]
  },
  {
   "cell_type": "markdown",
   "metadata": {},
   "source": [
    "**Rationale** \n",
    "\n",
    "I have been exploring the impact of HNT stress on various physiological and agronomic traits in diverse sets of winter canola genotypes. Calculating HSI values separately for various traits in large number of genotypes will be tedious and time consuming. This coding will also avoid the potential mannual miscalculations. Thus, this program will help me to effectively select contrasting lines using HSI values for specific trait in canola. This code might be useful for other researchers studying abiotic stress tolerance in crops."
   ]
  },
  {
   "cell_type": "code",
   "execution_count": 29,
   "metadata": {},
   "outputs": [],
   "source": [
    "# Import modules\n",
    "import pandas as pd\n",
    "import numpy as np\n",
    "import matplotlib\n",
    "import matplotlib.pyplot as plt\n",
    "from statsmodels.formula.api import ols\n",
    "from statsmodels.stats.anova import anova_lm\n",
    "from statsmodels.stats.multicomp import MultiComparison"
   ]
  },
  {
   "cell_type": "code",
   "execution_count": 2,
   "metadata": {},
   "outputs": [
    {
     "data": {
      "text/html": [
       "<div>\n",
       "<style scoped>\n",
       "    .dataframe tbody tr th:only-of-type {\n",
       "        vertical-align: middle;\n",
       "    }\n",
       "\n",
       "    .dataframe tbody tr th {\n",
       "        vertical-align: top;\n",
       "    }\n",
       "\n",
       "    .dataframe thead th {\n",
       "        text-align: right;\n",
       "    }\n",
       "</style>\n",
       "<table border=\"1\" class=\"dataframe\">\n",
       "  <thead>\n",
       "    <tr style=\"text-align: right;\">\n",
       "      <th></th>\n",
       "      <th>geno</th>\n",
       "      <th>trt</th>\n",
       "      <th>rep</th>\n",
       "      <th>TSW</th>\n",
       "    </tr>\n",
       "  </thead>\n",
       "  <tbody>\n",
       "    <tr>\n",
       "      <th>0</th>\n",
       "      <td>Mercedes</td>\n",
       "      <td>Control</td>\n",
       "      <td>1</td>\n",
       "      <td>33.00</td>\n",
       "    </tr>\n",
       "    <tr>\n",
       "      <th>1</th>\n",
       "      <td>Mercedes</td>\n",
       "      <td>Control</td>\n",
       "      <td>2</td>\n",
       "      <td>34.55</td>\n",
       "    </tr>\n",
       "    <tr>\n",
       "      <th>2</th>\n",
       "      <td>Mercedes</td>\n",
       "      <td>Control</td>\n",
       "      <td>3</td>\n",
       "      <td>27.77</td>\n",
       "    </tr>\n",
       "    <tr>\n",
       "      <th>3</th>\n",
       "      <td>Mercedes</td>\n",
       "      <td>HNT</td>\n",
       "      <td>1</td>\n",
       "      <td>30.85</td>\n",
       "    </tr>\n",
       "    <tr>\n",
       "      <th>4</th>\n",
       "      <td>Mercedes</td>\n",
       "      <td>HNT</td>\n",
       "      <td>2</td>\n",
       "      <td>25.73</td>\n",
       "    </tr>\n",
       "    <tr>\n",
       "      <th>5</th>\n",
       "      <td>Mercedes</td>\n",
       "      <td>HNT</td>\n",
       "      <td>3</td>\n",
       "      <td>29.65</td>\n",
       "    </tr>\n",
       "  </tbody>\n",
       "</table>\n",
       "</div>"
      ],
      "text/plain": [
       "       geno      trt  rep    TSW\n",
       "0  Mercedes  Control    1  33.00\n",
       "1  Mercedes  Control    2  34.55\n",
       "2  Mercedes  Control    3  27.77\n",
       "3  Mercedes      HNT    1  30.85\n",
       "4  Mercedes      HNT    2  25.73\n",
       "5  Mercedes      HNT    3  29.65"
      ]
     },
     "execution_count": 2,
     "metadata": {},
     "output_type": "execute_result"
    }
   ],
   "source": [
    "# Importing data\n",
    "# Working with uploaded data files by making datasets folder in the repository \n",
    "df= pd.read_csv('datasets/HNT_TSW_Data.csv')    # Reading data using pandas\n",
    "df.head(6)"
   ]
  },
  {
   "cell_type": "code",
   "execution_count": 3,
   "metadata": {},
   "outputs": [],
   "source": [
    "# Handling with missing values\n",
    "df.isna().sum()                 # Checking missing values in the dataframe\n",
    "df= df.fillna(method='pad')     # Filling missing values with immediate front values"
   ]
  },
  {
   "cell_type": "code",
   "execution_count": 4,
   "metadata": {},
   "outputs": [
    {
     "data": {
      "text/plain": [
       "0.17981350806451635"
      ]
     },
     "execution_count": 4,
     "metadata": {},
     "output_type": "execute_result"
    }
   ],
   "source": [
    "# Calculating the mean of all genotypes in each treatment\n",
    "df_Allgeno_means = df.groupby([\"trt\"]).mean()    \n",
    "YP_Allgeno = df_Allgeno_means.TSW[0]             # Calculating mean of all genotypes in control treatment\n",
    "YD_Allgeno = df_Allgeno_means.TSW[1]             # Calculating mean of all genotypes in HNT treatment\n",
    "D = 1 - (YD_Allgeno / YP_Allgeno)                # Calcuating the value of D which is a component of HSI formula\n",
    "D"
   ]
  },
  {
   "cell_type": "code",
   "execution_count": 5,
   "metadata": {},
   "outputs": [
    {
     "data": {
      "text/plain": [
       "array(['Mercedes', 'Edimax CL', 'Popular', '46W94', 'Wichita', 'Riley',\n",
       "       'DKW44-10', 'DKW46-15', 'HyCLASS225W', 'Hekip'], dtype=object)"
      ]
     },
     "execution_count": 5,
     "metadata": {},
     "output_type": "execute_result"
    }
   ],
   "source": [
    "# Creating a list of all canola genotypes\n",
    "genotypes = df[\"geno\"].unique()\n",
    "genotypes"
   ]
  },
  {
   "cell_type": "code",
   "execution_count": 21,
   "metadata": {},
   "outputs": [],
   "source": [
    "# Calculating HSI values of each genotypes using for loop\n",
    "HSI_values = []\n",
    "for geno in genotypes:\n",
    "    idx_geno_control = (df[\"geno\"] == geno) & (df[\"trt\"] == \"Control\")\n",
    "    idx_geno_hnt = (df[\"geno\"] == geno) & (df[\"trt\"] == \"HNT\")\n",
    "\n",
    "    YP = df.loc[idx_geno_control, \"TSW\"].mean()\n",
    "    YD = df.loc[idx_geno_hnt, \"TSW\"].mean()\n",
    "   \n",
    "    HSI = (1-YD/YP)/D\n",
    "    HSI_values.append(HSI)   "
   ]
  },
  {
   "cell_type": "code",
   "execution_count": 22,
   "metadata": {},
   "outputs": [
    {
     "data": {
      "text/html": [
       "<div>\n",
       "<style scoped>\n",
       "    .dataframe tbody tr th:only-of-type {\n",
       "        vertical-align: middle;\n",
       "    }\n",
       "\n",
       "    .dataframe tbody tr th {\n",
       "        vertical-align: top;\n",
       "    }\n",
       "\n",
       "    .dataframe thead th {\n",
       "        text-align: right;\n",
       "    }\n",
       "</style>\n",
       "<table border=\"1\" class=\"dataframe\">\n",
       "  <thead>\n",
       "    <tr style=\"text-align: right;\">\n",
       "      <th></th>\n",
       "      <th>genotypes</th>\n",
       "      <th>HSI</th>\n",
       "    </tr>\n",
       "  </thead>\n",
       "  <tbody>\n",
       "    <tr>\n",
       "      <th>0</th>\n",
       "      <td>Mercedes</td>\n",
       "      <td>0.530344</td>\n",
       "    </tr>\n",
       "    <tr>\n",
       "      <th>1</th>\n",
       "      <td>Edimax CL</td>\n",
       "      <td>0.670193</td>\n",
       "    </tr>\n",
       "    <tr>\n",
       "      <th>2</th>\n",
       "      <td>Popular</td>\n",
       "      <td>0.574075</td>\n",
       "    </tr>\n",
       "    <tr>\n",
       "      <th>3</th>\n",
       "      <td>46W94</td>\n",
       "      <td>-0.275154</td>\n",
       "    </tr>\n",
       "    <tr>\n",
       "      <th>4</th>\n",
       "      <td>Wichita</td>\n",
       "      <td>1.404008</td>\n",
       "    </tr>\n",
       "    <tr>\n",
       "      <th>5</th>\n",
       "      <td>Riley</td>\n",
       "      <td>0.968087</td>\n",
       "    </tr>\n",
       "    <tr>\n",
       "      <th>6</th>\n",
       "      <td>DKW44-10</td>\n",
       "      <td>1.560648</td>\n",
       "    </tr>\n",
       "    <tr>\n",
       "      <th>7</th>\n",
       "      <td>DKW46-15</td>\n",
       "      <td>1.471568</td>\n",
       "    </tr>\n",
       "    <tr>\n",
       "      <th>8</th>\n",
       "      <td>HyCLASS225W</td>\n",
       "      <td>2.513389</td>\n",
       "    </tr>\n",
       "    <tr>\n",
       "      <th>9</th>\n",
       "      <td>Hekip</td>\n",
       "      <td>0.917421</td>\n",
       "    </tr>\n",
       "  </tbody>\n",
       "</table>\n",
       "</div>"
      ],
      "text/plain": [
       "     genotypes       HSI\n",
       "0     Mercedes  0.530344\n",
       "1    Edimax CL  0.670193\n",
       "2      Popular  0.574075\n",
       "3        46W94 -0.275154\n",
       "4      Wichita  1.404008\n",
       "5        Riley  0.968087\n",
       "6     DKW44-10  1.560648\n",
       "7     DKW46-15  1.471568\n",
       "8  HyCLASS225W  2.513389\n",
       "9        Hekip  0.917421"
      ]
     },
     "execution_count": 22,
     "metadata": {},
     "output_type": "execute_result"
    }
   ],
   "source": [
    "# Merging two lists, genotypes and corresponding HSI values in to a data frame\n",
    "HSI_table = pd.DataFrame(list(zip(genotypes, HSI_values)), columns =['genotypes', 'HSI']) \n",
    "HSI_table.head(10)"
   ]
  },
  {
   "cell_type": "markdown",
   "metadata": {},
   "source": [
    "HSI < 1 is considered as tolerant and HSI > 1 is considered as susceptible genotypes to heat stress exposure. So, this code will separate all tested genotypes into tolerant and susceptible based on above calculated HSI values. "
   ]
  },
  {
   "cell_type": "code",
   "execution_count": 23,
   "metadata": {},
   "outputs": [
    {
     "name": "stderr",
     "output_type": "stream",
     "text": [
      "C:\\Users\\mns_p\\Anaconda3\\lib\\site-packages\\ipykernel_launcher.py:6: SettingWithCopyWarning: \n",
      "A value is trying to be set on a copy of a slice from a DataFrame\n",
      "\n",
      "See the caveats in the documentation: http://pandas.pydata.org/pandas-docs/stable/indexing.html#indexing-view-versus-copy\n",
      "  \n",
      "C:\\Users\\mns_p\\Anaconda3\\lib\\site-packages\\ipykernel_launcher.py:8: SettingWithCopyWarning: \n",
      "A value is trying to be set on a copy of a slice from a DataFrame\n",
      "\n",
      "See the caveats in the documentation: http://pandas.pydata.org/pandas-docs/stable/indexing.html#indexing-view-versus-copy\n",
      "  \n"
     ]
    },
    {
     "data": {
      "text/html": [
       "<div>\n",
       "<style scoped>\n",
       "    .dataframe tbody tr th:only-of-type {\n",
       "        vertical-align: middle;\n",
       "    }\n",
       "\n",
       "    .dataframe tbody tr th {\n",
       "        vertical-align: top;\n",
       "    }\n",
       "\n",
       "    .dataframe thead th {\n",
       "        text-align: right;\n",
       "    }\n",
       "</style>\n",
       "<table border=\"1\" class=\"dataframe\">\n",
       "  <thead>\n",
       "    <tr style=\"text-align: right;\">\n",
       "      <th></th>\n",
       "      <th>genotypes</th>\n",
       "      <th>HSI</th>\n",
       "      <th>Susceptibility</th>\n",
       "    </tr>\n",
       "  </thead>\n",
       "  <tbody>\n",
       "    <tr>\n",
       "      <th>0</th>\n",
       "      <td>Mercedes</td>\n",
       "      <td>0.530344</td>\n",
       "      <td>Tolerant</td>\n",
       "    </tr>\n",
       "    <tr>\n",
       "      <th>1</th>\n",
       "      <td>Edimax CL</td>\n",
       "      <td>0.670193</td>\n",
       "      <td>Tolerant</td>\n",
       "    </tr>\n",
       "    <tr>\n",
       "      <th>2</th>\n",
       "      <td>Popular</td>\n",
       "      <td>0.574075</td>\n",
       "      <td>Tolerant</td>\n",
       "    </tr>\n",
       "    <tr>\n",
       "      <th>3</th>\n",
       "      <td>46W94</td>\n",
       "      <td>-0.275154</td>\n",
       "      <td>Tolerant</td>\n",
       "    </tr>\n",
       "    <tr>\n",
       "      <th>4</th>\n",
       "      <td>Wichita</td>\n",
       "      <td>1.404008</td>\n",
       "      <td>Susceptible</td>\n",
       "    </tr>\n",
       "    <tr>\n",
       "      <th>5</th>\n",
       "      <td>Riley</td>\n",
       "      <td>0.968087</td>\n",
       "      <td>Tolerant</td>\n",
       "    </tr>\n",
       "    <tr>\n",
       "      <th>6</th>\n",
       "      <td>DKW44-10</td>\n",
       "      <td>1.560648</td>\n",
       "      <td>Susceptible</td>\n",
       "    </tr>\n",
       "    <tr>\n",
       "      <th>7</th>\n",
       "      <td>DKW46-15</td>\n",
       "      <td>1.471568</td>\n",
       "      <td>Susceptible</td>\n",
       "    </tr>\n",
       "    <tr>\n",
       "      <th>8</th>\n",
       "      <td>HyCLASS225W</td>\n",
       "      <td>2.513389</td>\n",
       "      <td>Susceptible</td>\n",
       "    </tr>\n",
       "    <tr>\n",
       "      <th>9</th>\n",
       "      <td>Hekip</td>\n",
       "      <td>0.917421</td>\n",
       "      <td>Tolerant</td>\n",
       "    </tr>\n",
       "  </tbody>\n",
       "</table>\n",
       "</div>"
      ],
      "text/plain": [
       "     genotypes       HSI Susceptibility\n",
       "0     Mercedes  0.530344       Tolerant\n",
       "1    Edimax CL  0.670193       Tolerant\n",
       "2      Popular  0.574075       Tolerant\n",
       "3        46W94 -0.275154       Tolerant\n",
       "4      Wichita  1.404008    Susceptible\n",
       "5        Riley  0.968087       Tolerant\n",
       "6     DKW44-10  1.560648    Susceptible\n",
       "7     DKW46-15  1.471568    Susceptible\n",
       "8  HyCLASS225W  2.513389    Susceptible\n",
       "9        Hekip  0.917421       Tolerant"
      ]
     },
     "execution_count": 23,
     "metadata": {},
     "output_type": "execute_result"
    }
   ],
   "source": [
    "# For loop for assigning or identifying heat susceptibility in canola genotypes based on previous calculated HSI values \n",
    "HSI_table.insert(2,\"Susceptibility\", \"\")          # Insert a column, named 'Susceptibility' to the dataframe\n",
    "\n",
    "for x in range(0,len(HSI_table)):\n",
    "    if HSI_table.HSI[x] < 1:                       \n",
    "        HSI_table.Susceptibility[x] = \"Tolerant\"\n",
    "    else:\n",
    "        HSI_table.Susceptibility[x] = \"Susceptible\"\n",
    "HSI_table"
   ]
  },
  {
   "cell_type": "markdown",
   "metadata": {},
   "source": [
    "The analysis of vaiance (ANOVA) was performed to analyze the impact of HNT on total seed weight per plant in canola genotypes.This operation also tests the usefulness of the concept of HSI to identify the tolerant and susceptible genotypes under stressful environments. The mean separation between the treatments for each genotypes was conducted to see whether the above identified tolerant and susceptible genotypes show statistical significant different among the tretments or not. "
   ]
  },
  {
   "cell_type": "code",
   "execution_count": 86,
   "metadata": {},
   "outputs": [
    {
     "name": "stdout",
     "output_type": "stream",
     "text": [
      "['Mercedes' 'Edimax CL' 'Popular' '46W94' 'Wichita' 'Riley' 'DKW44-10'\n",
      " 'DKW46-15' 'HyCLASS225W' 'Hekip']\n",
      "['Control' 'HNT']\n",
      "[1 2 3]\n",
      "(60, 4)\n"
     ]
    }
   ],
   "source": [
    "# Printing some useful properties of the datasets\n",
    "print(df['geno'].unique())     \n",
    "print(df['trt'].unique())       \n",
    "print(df['rep'].unique())      \n",
    "print(df.shape) "
   ]
  },
  {
   "cell_type": "code",
   "execution_count": 257,
   "metadata": {},
   "outputs": [
    {
     "data": {
      "image/png": "[encoded data removed]",
      "text/plain": [
       "<Figure size 864x432 with 1 Axes>"
      ]
     },
     "metadata": {
      "needs_background": "light"
     },
     "output_type": "display_data"
    }
   ],
   "source": [
    "# Preliminery examinaion of the total seed weight per plant between the treatments for all ten genotypes using boxplots\n",
    "df.boxplot(column=['TSW'], by= ['geno','trt'], figsize=(12,6))\n",
    "plt.title('Variations in total seed weight per plant', fontsize = 16)\n",
    "plt.xticks(fontsize = 12)\n",
    "plt.yticks(fontsize = 12)\n",
    "plt.xlabel('Canola genotypes', fontsize = 16)\n",
    "plt.ylabel('Total seed weight per plant', fontsize = 16)\n",
    "plt.xticks(rotation='vertical')\n",
    "plt.show()"
   ]
  },
  {
   "cell_type": "code",
   "execution_count": 88,
   "metadata": {},
   "outputs": [
    {
     "data": {
      "text/html": [
       "<div>\n",
       "<style scoped>\n",
       "    .dataframe tbody tr th:only-of-type {\n",
       "        vertical-align: middle;\n",
       "    }\n",
       "\n",
       "    .dataframe tbody tr th {\n",
       "        vertical-align: top;\n",
       "    }\n",
       "\n",
       "    .dataframe thead th {\n",
       "        text-align: right;\n",
       "    }\n",
       "</style>\n",
       "<table border=\"1\" class=\"dataframe\">\n",
       "  <thead>\n",
       "    <tr style=\"text-align: right;\">\n",
       "      <th></th>\n",
       "      <th>df</th>\n",
       "      <th>sum_sq</th>\n",
       "      <th>mean_sq</th>\n",
       "      <th>F</th>\n",
       "      <th>PR(&gt;F)</th>\n",
       "    </tr>\n",
       "  </thead>\n",
       "  <tbody>\n",
       "    <tr>\n",
       "      <th>C(geno)</th>\n",
       "      <td>9.0</td>\n",
       "      <td>1713.938267</td>\n",
       "      <td>190.437585</td>\n",
       "      <td>15.261340</td>\n",
       "      <td>2.217186e-10</td>\n",
       "    </tr>\n",
       "    <tr>\n",
       "      <th>C(trt)</th>\n",
       "      <td>1.0</td>\n",
       "      <td>339.388167</td>\n",
       "      <td>339.388167</td>\n",
       "      <td>27.197983</td>\n",
       "      <td>5.950718e-06</td>\n",
       "    </tr>\n",
       "    <tr>\n",
       "      <th>C(geno):C(trt)</th>\n",
       "      <td>9.0</td>\n",
       "      <td>208.209200</td>\n",
       "      <td>23.134356</td>\n",
       "      <td>1.853947</td>\n",
       "      <td>8.810097e-02</td>\n",
       "    </tr>\n",
       "    <tr>\n",
       "      <th>Residual</th>\n",
       "      <td>40.0</td>\n",
       "      <td>499.137267</td>\n",
       "      <td>12.478432</td>\n",
       "      <td>NaN</td>\n",
       "      <td>NaN</td>\n",
       "    </tr>\n",
       "  </tbody>\n",
       "</table>\n",
       "</div>"
      ],
      "text/plain": [
       "                  df       sum_sq     mean_sq          F        PR(>F)\n",
       "C(geno)          9.0  1713.938267  190.437585  15.261340  2.217186e-10\n",
       "C(trt)           1.0   339.388167  339.388167  27.197983  5.950718e-06\n",
       "C(geno):C(trt)   9.0   208.209200   23.134356   1.853947  8.810097e-02\n",
       "Residual        40.0   499.137267   12.478432        NaN           NaN"
      ]
     },
     "execution_count": 88,
     "metadata": {},
     "output_type": "execute_result"
    }
   ],
   "source": [
    "# ANOVA with treatments, genotypes and their interactions\n",
    "formula = 'TSW ~ C(geno) + C(trt) + C(geno)* C(trt)'\n",
    "model = ols(formula,data= df).fit()\n",
    "anova_lm(model,type=2)"
   ]
  },
  {
   "cell_type": "code",
   "execution_count": 32,
   "metadata": {},
   "outputs": [
    {
     "name": "stdout",
     "output_type": "stream",
     "text": [
      "Multiple Comparison of Means - Tukey HSD,FWER=0.05\n",
      "=============================================\n",
      " group1 group2 meandiff lower   upper  reject\n",
      "---------------------------------------------\n",
      "Control  HNT   -4.7567  -8.096 -1.4173  True \n",
      "---------------------------------------------\n"
     ]
    }
   ],
   "source": [
    "# Comparison of Means of total seed weight per plant between control and HNT treatments in canola genotypes \n",
    "mean_comparison= MultiComparison(df['TSW'],df['trt']).tukeyhsd(alpha=0.05)\n",
    "print(mean_comparison)"
   ]
  },
  {
   "cell_type": "code",
   "execution_count": 15,
   "metadata": {},
   "outputs": [],
   "source": [
    "# for loop for calculating the means of each genotypes in control and HNT treatments\n",
    "control_means = []\n",
    "hnt_means = []\n",
    "for geno in genotypes:\n",
    "    idx_geno_control = (df[\"geno\"] == geno) & (df[\"trt\"] == \"Control\")\n",
    "    idx_geno_hnt = (df[\"geno\"] == geno) & (df[\"trt\"] == \"HNT\")\n",
    "\n",
    "    control_mean = df.loc[idx_geno_control, \"TSW\"].mean()\n",
    "    hnt_mean= df.loc[idx_geno_hnt, \"TSW\"].mean()   \n",
    "   \n",
    "    control_means.append(control_mean);\n",
    "    hnt_means.append(hnt_mean)\n",
    "    "
   ]
  },
  {
   "cell_type": "code",
   "execution_count": 19,
   "metadata": {},
   "outputs": [
    {
     "data": {
      "image/png": "[encoded data removed]",
      "text/plain": [
       "<Figure size 864x576 with 1 Axes>"
      ]
     },
     "metadata": {
      "needs_background": "light"
     },
     "output_type": "display_data"
    }
   ],
   "source": [
    "# Create a grouped bar graph to show the variations in total seed weight between control and HNT in canola genotypes\n",
    "                          \n",
    "x= np.arange(len(genotypes))            # the label locations\n",
    "width = 0.35                            # the width of the bars\n",
    "\n",
    "fig, ax = plt.subplots(figsize = (12,8))\n",
    "bar_1 = ax.bar(x - width/2, control_means, width, label='Control')\n",
    "bar_2 = ax.bar(x + width/2, hnt_means, width, label='HNT')\n",
    "\n",
    "# Adding some text for labels and custom x-axis tick labels etc.\n",
    "\n",
    "ax.set_ylabel('Total seed weight per plant (g)', fontsize = 16)\n",
    "ax.set_xlabel('Canola genotypes', fontsize = 16)\n",
    "ax.set_xticks(x)\n",
    "ax.set_xticklabels(genotypes, fontsize = 10)\n",
    "ax.legend(fontsize = 14)\n",
    "plt.show()"
   ]
  }
 ],
 "metadata": {
  "kernelspec": {
   "display_name": "Python 3",
   "language": "python",
   "name": "python3"
  },
  "language_info": {
   "codemirror_mode": {
    "name": "ipython",
    "version": 3
   },
   "file_extension": ".py",
   "mimetype": "text/x-python",
   "name": "python",
   "nbconvert_exporter": "python",
   "pygments_lexer": "ipython3",
   "version": "3.7.1"
  }
 },
 "nbformat": 4,
 "nbformat_minor": 2
}
