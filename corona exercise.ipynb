{
 "cells": [
  {
   "cell_type": "code",
   "execution_count": 25,
   "metadata": {},
   "outputs": [],
   "source": [
    "# Import module\n",
    "import pandas as pd\n",
    "import numpy as np\n",
    "import matplotlib.pyplot as plt"
   ]
  },
  {
   "cell_type": "code",
   "execution_count": 26,
   "metadata": {},
   "outputs": [],
   "source": [
    "coronaconfirmed = pd.read_csv('https://raw.githubusercontent.com/CSSEGISandData/COVID-19/master/csse_covid_19_data/csse_covid_19_time_series/time_series_19-covid-Confirmed.csv')\n",
    "coronadeaths = pd.read_csv('https://raw.githubusercontent.com/CSSEGISandData/COVID-19/master/csse_covid_19_data/csse_covid_19_time_series/time_series_19-covid-Deaths.csv')\n",
    "coronarecovered = pd.read_csv('https://raw.githubusercontent.com/CSSEGISandData/COVID-19/master/csse_covid_19_data/csse_covid_19_time_series/time_series_19-covid-Recovered.csv')"
   ]
  },
  {
   "cell_type": "code",
   "execution_count": 27,
   "metadata": {},
   "outputs": [],
   "source": [
    "coronaconfirmedsumed = coronaconfirmed.iloc[:,4:].sum()\n",
    "coronadeathssumed = coronadeaths.iloc[:,4:].sum()\n",
    "coronarecoveredsumed = coronarecovered.iloc[:,4:].sum()"
   ]
  },
  {
   "cell_type": "code",
   "execution_count": 43,
   "metadata": {},
   "outputs": [
    {
     "name": "stdout",
     "output_type": "stream",
     "text": [
      "   1/22/20  1/23/20  1/24/20  1/25/20  1/26/20  1/27/20  1/28/20  1/29/20  \\\n",
      "0      555      653      941     1434     2118     2927     5578     6166   \n",
      "1       17       18       26       42       56       82      131      133   \n",
      "2       28       30       36       39       52       61      107      126   \n",
      "\n",
      "   1/30/20  1/31/20   ...     2/20/20  2/21/20  2/22/20  2/23/20  2/24/20  \\\n",
      "0     8234     9927   ...       76199    76843    78599    78985    79570   \n",
      "1      171      213   ...        2247     2251     2458     2469     2629   \n",
      "2      143      222   ...       18177    18890    22886    23394    25227   \n",
      "\n",
      "   2/25/20  2/26/20  2/27/20  2/28/20  2/29/20  \n",
      "0    80415    81397    82756    84122    86013  \n",
      "1     2708     2770     2814     2872     2941  \n",
      "2    27905    30384    33277    36711    39782  \n",
      "\n",
      "[3 rows x 39 columns]\n",
      "             0     1      2\n",
      "1/22/20    555    17     28\n",
      "1/23/20    653    18     30\n",
      "1/24/20    941    26     36\n",
      "1/25/20   1434    42     39\n",
      "1/26/20   2118    56     52\n",
      "1/27/20   2927    82     61\n",
      "1/28/20   5578   131    107\n",
      "1/29/20   6166   133    126\n",
      "1/30/20   8234   171    143\n",
      "1/31/20   9927   213    222\n",
      "2/1/20   12038   259    284\n",
      "2/2/20   16787   362    472\n",
      "2/3/20   19881   426    623\n",
      "2/4/20   23892   492    852\n",
      "2/5/20   27636   564   1124\n",
      "2/6/20   30818   634   1487\n",
      "2/7/20   34392   719   2011\n",
      "2/8/20   37121   806   2616\n",
      "2/9/20   40151   906   3244\n",
      "2/10/20  42763  1013   3946\n",
      "2/11/20  44803  1113   4683\n",
      "2/12/20  45222  1118   5150\n",
      "2/13/20  60370  1371   6295\n",
      "2/14/20  66887  1523   8058\n",
      "2/15/20  69032  1666   9395\n",
      "2/16/20  71226  1770  10865\n",
      "2/17/20  73260  1868  12583\n",
      "2/18/20  75138  2007  14352\n",
      "2/19/20  75641  2122  16121\n",
      "2/20/20  76199  2247  18177\n",
      "2/21/20  76843  2251  18890\n",
      "2/22/20  78599  2458  22886\n",
      "2/23/20  78985  2469  23394\n",
      "2/24/20  79570  2629  25227\n",
      "2/25/20  80415  2708  27905\n",
      "2/26/20  81397  2770  30384\n",
      "2/27/20  82756  2814  33277\n",
      "2/28/20  84122  2872  36711\n",
      "2/29/20  86013  2941  39782\n",
      "DatetimeIndex(['2020-01-22', '2020-01-23', '2020-01-24', '2020-01-25',\n",
      "               '2020-01-26', '2020-01-27', '2020-01-28', '2020-01-29',\n",
      "               '2020-01-30', '2020-01-31', '2020-02-01', '2020-02-02',\n",
      "               '2020-02-03', '2020-02-04', '2020-02-05', '2020-02-06',\n",
      "               '2020-02-07', '2020-02-08', '2020-02-09', '2020-02-10',\n",
      "               '2020-02-11', '2020-02-12', '2020-02-13', '2020-02-14',\n",
      "               '2020-02-15', '2020-02-16', '2020-02-17', '2020-02-18',\n",
      "               '2020-02-19', '2020-02-20', '2020-02-21', '2020-02-22',\n",
      "               '2020-02-23', '2020-02-24', '2020-02-25', '2020-02-26',\n",
      "               '2020-02-27', '2020-02-28', '2020-02-29'],\n",
      "              dtype='datetime64[ns]', freq=None)\n"
     ]
    }
   ],
   "source": [
    "dataframe = pd.DataFrame([coronaconfirmedsumed,coronadeathssumed,coronarecoveredsumed])\n",
    "print(dataframe)\n",
    "dataframetransposed = dataframe.T\n",
    "print(dataframetransposed)\n",
    "datetime = pd.to_datetime(coronaconfirmed.iloc[:,4:].columns)\n",
    "print(datetime)\n",
    "    "
   ]
  },
  {
   "cell_type": "code",
   "execution_count": 81,
   "metadata": {},
   "outputs": [
    {
     "data": {
      "image/png": "[encoded data removed]",
      "text/plain": [
       "<Figure size 432x288 with 1 Axes>"
      ]
     },
     "metadata": {
      "needs_background": "light"
     },
     "output_type": "display_data"
    }
   ],
   "source": [
    "plt.plot(datetime,dataframetransposed[0], label= 'confirmed', linestyle = '--')\n",
    "plt.plot(datetime,dataframetransposed[1], label= 'deaths',linestyle =\":\")\n",
    "plt.plot(datetime,dataframetransposed[2], label= 'Rcovered', linestyle = '-')\n",
    "plt.legend()\n",
    "plt.xticks(rotation=45)\n",
    "plt.ylabel('people')\n",
    "plt.title('coronavirus timeseries')\n",
    "plt.savefig('sdsd')\n",
    "plt.show()"
   ]
  },
  {
   "cell_type": "code",
   "execution_count": null,
   "metadata": {},
   "outputs": [],
   "source": []
  }
 ],
 "metadata": {
  "kernelspec": {
   "display_name": "Python 3",
   "language": "python",
   "name": "python3"
  },
  "language_info": {
   "codemirror_mode": {
    "name": "ipython",
    "version": 3
   },
   "file_extension": ".py",
   "mimetype": "text/x-python",
   "name": "python",
   "nbconvert_exporter": "python",
   "pygments_lexer": "ipython3",
   "version": "3.7.1"
  }
 },
 "nbformat": 4,
 "nbformat_minor": 2
}
