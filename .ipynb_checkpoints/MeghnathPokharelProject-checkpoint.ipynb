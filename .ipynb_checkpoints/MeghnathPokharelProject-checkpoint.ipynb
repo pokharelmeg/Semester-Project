{
 "cells": [
  {
   "cell_type": "markdown",
   "metadata": {},
   "source": [
    "# Name: Meghnath Pokharel\n",
    "# Semester: Spring 2020\n",
    "# Project Area: Agronomy"
   ]
  },
  {
   "cell_type": "code",
   "execution_count": 1,
   "metadata": {},
   "outputs": [],
   "source": [
    "# Import modules\n",
    "import pandas as pd\n",
    "import numpy as np"
   ]
  },
  {
   "cell_type": "code",
   "execution_count": 33,
   "metadata": {},
   "outputs": [
    {
     "name": "stdout",
     "output_type": "stream",
     "text": [
      "       geno      trt  rep     BM  TPN    TPW    TSW          OC \n",
      "0  Mercedes  Control    1  24.95  490  56.47     33  46.36363636\n",
      "1  Mercedes  Control    2  25.51  583  64.27  34.55  43.15120712\n",
      "2  Mercedes  Control    3  33.56  455  47.78  27.77  42.91187739\n",
      "3  Mercedes      HNT    1   26.9  471  54.32  30.85   44.7715736\n",
      "4  Mercedes      HNT    2  26.61  462  47.31  25.73   41.7115629\n",
      "5  Mercedes      HNT    3   31.1  502  52.07  29.65  41.07692308\n",
      "       geno      trt  rep     BM  TPN   TSW  TSW.1           OC\n",
      "0  Mercedes  Control    1  23.57  544  53.6  28.83  43.02077484\n",
      "1  Mercedes  Control    2  29.74  601  57.6  31.22  47.19010925\n",
      "2  Mercedes  Control    3  26.11  590  69.2   39.2  46.74843597\n",
      "3  Mercedes  Control    4   26.9  560  62.4  34.19  45.89272308\n",
      "4  Mercedes      HNT    1   22.1  580    58  33.79  44.17750549\n",
      "5  Mercedes      HNT    2  24.31  542    62  37.46  46.79454041\n"
     ]
    }
   ],
   "source": [
    "# Importing data\n",
    "#Two ways of working with data files\n",
    "\n",
    "#1 working with data directly from the web \n",
    "#dirname = 'https://raw.githubusercontent.com/pokharelmeg/Semester-Project/master/datasets/'\n",
    "#filename = 'HNT_Yield_Data_Ex1.csv'\n",
    "#df= pd.read_csv(dirname + filename)\n",
    "\n",
    "#2 working with uploaded data file by making datasets folder in the repository \n",
    "df_HNT_Ex1 = pd.read_csv('datasets/HNT_Yield_Data_Ex1.csv')\n",
    "df_HNT_Ex2 = pd.read_csv('datasets/HNT_Yield_Data_Ex2.csv')\n",
    "print(df_HNT_Ex1.head(6))\n",
    "print(df_HNT_Ex2.head(6))\n",
    "#print(type(df)"
   ]
  },
  {
   "cell_type": "code",
   "execution_count": 35,
   "metadata": {},
   "outputs": [
    {
     "name": "stdout",
     "output_type": "stream",
     "text": [
      "     geno      trt  rep     BM    TPN    TPW    TSW        OC \n",
      "55  Hekip  Control    2  36.69  406.0  48.24  26.14  41.698842\n",
      "56  Hekip  Control    3  33.76    NaN    NaN    NaN        NaN\n",
      "57  Hekip      HNT    1  26.60  417.0  26.49  12.80  38.461538\n",
      "58  Hekip      HNT    2  27.96  414.0  39.98  22.63  33.974026\n",
      "59  Hekip      HNT    3  23.22    NaN    NaN    NaN  34.330709\n",
      "        geno      trt  rep     BM    TPN   TSW  TSW.1         OC\n",
      "43  DKW46-15  Control    4  21.93  571.0  50.2    NaN        NaN\n",
      "44  DKW46-15      HNT    1  13.70  443.0  29.4   7.96  38.118202\n",
      "45  DKW46-15      HNT    2  20.16  277.0  19.1  19.51  37.502991\n",
      "46  DKW46-15      HNT    3  14.23  247.0  18.6  16.60  38.601631\n",
      "47  DKW46-15      HNT    4    NaN    NaN   NaN    NaN        NaN\n",
      "<class 'pandas.core.frame.DataFrame'>\n"
     ]
    }
   ],
   "source": [
    "# Handling with missing values\n",
    "#df.isna().sum() # to check the missing values in the dataframe\n",
    "missing_values = [\"m\"]\n",
    "df_HNT_Ex1 = pd.read_csv('datasets/HNT_Yield_Data_Ex1.csv', na_values = missing_values)\n",
    "df_HNT_Ex2 = pd.read_csv('datasets/HNT_Yield_Data_Ex2.csv', na_values = missing_values)\n",
    "print(df_HNT_Ex1.tail(5))\n",
    "print(df_HNT_Ex2.tail(5))\n",
    "print(type(df))"
   ]
  },
  {
   "cell_type": "code",
   "execution_count": null,
   "metadata": {},
   "outputs": [],
   "source": [
    "# Calculations"
   ]
  }
 ],
 "metadata": {
  "kernelspec": {
   "display_name": "Python 3",
   "language": "python",
   "name": "python3"
  },
  "language_info": {
   "codemirror_mode": {
    "name": "ipython",
    "version": 3
   },
   "file_extension": ".py",
   "mimetype": "text/x-python",
   "name": "python",
   "nbconvert_exporter": "python",
   "pygments_lexer": "ipython3",
   "version": "3.7.1"
  }
 },
 "nbformat": 4,
 "nbformat_minor": 2
}
