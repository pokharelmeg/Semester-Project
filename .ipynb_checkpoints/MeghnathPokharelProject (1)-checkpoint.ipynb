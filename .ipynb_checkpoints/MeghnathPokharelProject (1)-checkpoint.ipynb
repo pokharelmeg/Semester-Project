{
 "cells": [
  {
   "cell_type": "markdown",
   "metadata": {},
   "source": [
    "Name: Meghnath Pokharel\n",
    "\n",
    "Semester: Spring 2020\n",
    "\n",
    "Project Area: Agronomy"
   ]
  },
  {
   "cell_type": "markdown",
   "metadata": {},
   "source": [
    "Title: Heat susceptibility index as a measure of High night temperature tolerance in winter canola"
   ]
  },
  {
   "cell_type": "markdown",
   "metadata": {},
   "source": [
    "This project aims to write the python codes to calculate heat susceptibility indices (HSI) for yield and seed quality traits in response to high night temperature (HNT) in winter canola. HSI is widely used to classify large number of genotypes in to tolerent and susceptible genotypes under heat stress environments. \n",
    "HSI is calculated using the following formula as by Fisher and Maurer (1978).\n",
    "HSI = [l-YD/YP]/D\n",
    "\n",
    "Where, YD represents mean of the genotypes in HNT stress, YP represents mean of the genotypes under control.\n",
    "D represents 1- [mean YD of all genotypes/mean YP of all genotypes]."
   ]
  },
  {
   "cell_type": "code",
   "execution_count": null,
   "metadata": {},
   "outputs": [],
   "source": [
    "# Import modules\n",
    "import pandas as pd\n",
    "import numpy as np"
   ]
  },
  {
   "cell_type": "code",
   "execution_count": null,
   "metadata": {},
   "outputs": [],
   "source": [
    "# Importing data\n",
    "# working with uploaded data files by making datasets folder in the repository \n",
    "df_HNT_TSW_Ex1 = pd.read_csv('datasets/HNT_TSW_Data_Ex1.csv')\n",
    "df_HNT_TSW_Ex1.head(6)"
   ]
  },
  {
   "cell_type": "markdown",
   "metadata": {},
   "source": [
    "In the above dataframe, 'geno', 'trt', 'rep' and 'TSW' represent genotypes of winter canola, treatments, replications and total seed weight per plant respectively. In the first experiment, 10 genotypes of canola were tested in two treatments (Control and HNT) with three replications in each treatment."
   ]
  },
  {
   "cell_type": "code",
   "execution_count": null,
   "metadata": {},
   "outputs": [],
   "source": [
    "# Handling with missing values\n",
    "df_HNT_TSW_Ex1.isna().sum()\n",
    "\n",
    "# filling NaNs with immediate front values\n",
    "df_HNT_TSW_Ex1 = df_HNT_TSW_Ex1.fillna(method='pad')"
   ]
  },
  {
   "cell_type": "code",
   "execution_count": null,
   "metadata": {},
   "outputs": [],
   "source": [
    "df_HNT_TSW_Ex1.insert(0, \"GenoTrt\", \"\")\n",
    "df_HNT_TSW_Ex1['GenoTrt'] = df_HNT_TSW_Ex1['geno'] + df_HNT_TSW_Ex1['trt']\n",
    "df_HNT_TSW_Ex1"
   ]
  },
  {
   "cell_type": "code",
   "execution_count": null,
   "metadata": {},
   "outputs": [],
   "source": [
    "genotrt_list = df_HNT_TSW_Ex1.GenoTrt\n",
    "genotrt_list = list(set(genotrt_list))\n",
    "genotrt_list.sort()\n",
    "\n",
    "genotype_list = df_HNT_TSW_Ex1.geno\n",
    "genotype_list = list(set(genotype_list))\n",
    "genotype_list.sort()"
   ]
  },
  {
   "cell_type": "code",
   "execution_count": null,
   "metadata": {},
   "outputs": [],
   "source": [
    "# Calculate means of each genotypes in each treatment \n",
    "df_HNT_TSW_Ex1_means = df_HNT_TSW_Ex1.groupby([\"geno\", \"trt\"]).mean()\n",
    "print(df_HNT_TSW_Ex1_means)"
   ]
  },
  {
   "cell_type": "code",
   "execution_count": null,
   "metadata": {},
   "outputs": [],
   "source": [
    "df_HNT_TSW_Ex1_means.insert(2, \"genotreat\", genotrt_list)"
   ]
  },
  {
   "cell_type": "code",
   "execution_count": null,
   "metadata": {},
   "outputs": [],
   "source": [
    "# Calculate means of each genotypes in each treatment \n",
    "df_All_TSW_Ex1_means = df_HNT_TSW_Ex1.groupby([\"trt\"]).mean()\n",
    "YP_All = df_All_TSW_Ex1_means.TSW[0]\n",
    "YD_All = df_All_TSW_Ex1_means.TSW[1]\n",
    "D = 1 - (YD_All / YP_All)"
   ]
  },
  {
   "cell_type": "code",
   "execution_count": null,
   "metadata": {},
   "outputs": [],
   "source": [
    "def Compute_HSI (y):\n",
    "    \n",
    "    newdf = pd.DataFrame([], columns=['Genotype', 'HSI'])\n",
    "    for x in genotype_list:\n",
    "        control = x + 'Control'\n",
    "        stress = x + 'HNT'\n",
    "        controlresult = df_HNT_TSW_Ex1_means[df_HNT_TSW_Ex1_means['genotreat']==control][y]\n",
    "        controlresult = float(controlresult)\n",
    "        stressresult = df_HNT_TSW_Ex1_means[df_HNT_TSW_Ex1_means['genotreat']==stress][y]\n",
    "        stressresult = float(stressresult)\n",
    "        HSI = (1 - (stressresult / controlresult)) / D\n",
    "        newdf = newdf.append({'Genotype': x, 'HSI' : HSI}, ignore_index=True)\n",
    "    return(newdf)"
   ]
  },
  {
   "cell_type": "code",
   "execution_count": null,
   "metadata": {},
   "outputs": [],
   "source": [
    "HSI = Compute_HSI('TSW')\n",
    "HSI"
   ]
  },
  {
   "cell_type": "code",
   "execution_count": null,
   "metadata": {},
   "outputs": [],
   "source": [
    "HSI.insert(2,\"Susceptibility\", \"\")\n",
    "\n",
    "for x in range(0,len(HSI)):\n",
    "    if HSI.HSI[x] < 1:\n",
    "        HSI.Susceptibility[x] = \"Resistant\"\n",
    "    else:\n",
    "        HSI.Susceptibility[x] = \"Susceptible\""
   ]
  },
  {
   "cell_type": "code",
   "execution_count": null,
   "metadata": {},
   "outputs": [],
   "source": [
    "HSI"
   ]
  },
  {
   "cell_type": "code",
   "execution_count": null,
   "metadata": {},
   "outputs": [],
   "source": []
  }
 ],
 "metadata": {
  "kernelspec": {
   "display_name": "Python 3",
   "language": "python",
   "name": "python3"
  },
  "language_info": {
   "codemirror_mode": {
    "name": "ipython",
    "version": 3
   },
   "file_extension": ".py",
   "mimetype": "text/x-python",
   "name": "python",
   "nbconvert_exporter": "python",
   "pygments_lexer": "ipython3",
   "version": "3.7.1"
  }
 },
 "nbformat": 4,
 "nbformat_minor": 2
}
