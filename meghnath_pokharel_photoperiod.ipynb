{
 "cells": [
  {
   "cell_type": "code",
   "execution_count": 115,
   "metadata": {},
   "outputs": [],
   "source": [
    "import math\n",
    "from  datetime import datetime\n"
   ]
  },
  {
   "cell_type": "code",
   "execution_count": 121,
   "metadata": {},
   "outputs": [],
   "source": [
    "declination_sun = \"delta\"\n",
    "julian_date= \"t\"\n",
    "zenithal_dis = \"alpha\"\n",
    "angle_belowsun= \"B\"\n",
    "sun_mean_anomaly = \"M\"\n",
    "lattitude = \"phy\""
   ]
  },
  {
   "cell_type": "code",
   "execution_count": 142,
   "metadata": {},
   "outputs": [
    {
     "name": "stdout",
     "output_type": "stream",
     "text": [
      "0.002206\n"
     ]
    }
   ],
   "source": [
    "light_intensity= 2.206 *10**-3 \n",
    "print(light_intensity)\n"
   ]
  },
  {
   "cell_type": "code",
   "execution_count": 143,
   "metadata": {},
   "outputs": [
    {
     "name": "stdout",
     "output_type": "stream",
     "text": [
      "1.5400715888953513\n"
     ]
    }
   ],
   "source": [
    "# solving equestion 5\n",
    "B = -4.76-1.03* math.log(light_intensity)\n",
    "print(B)"
   ]
  },
  {
   "cell_type": "code",
   "execution_count": 100,
   "metadata": {},
   "outputs": [
    {
     "name": "stdout",
     "output_type": "stream",
     "text": [
      "91.539995\n"
     ]
    }
   ],
   "source": [
    "# solving equestion 6\n",
    "alpha = 90 + B\n",
    "print (alpha)\n"
   ]
  },
  {
   "cell_type": "code",
   "execution_count": 134,
   "metadata": {},
   "outputs": [
    {
     "name": "stdout",
     "output_type": "stream",
     "text": [
      "43\n"
     ]
    },
    {
     "name": "stdin",
     "output_type": "stream",
     "text": [
      "Enter day of year 43\n"
     ]
    },
    {
     "name": "stdout",
     "output_type": "stream",
     "text": [
      "43.0\n"
     ]
    }
   ],
   "source": [
    "# calculating day of the year\n",
    "dayofyear = datetime.now().timetuple().tm_yday\n",
    "print (dayofyear)\n",
    "dayofyear = input(\"Enter day of year\")\n",
    "dayofyear = float(dayofyear)\n",
    "print (dayofyear)"
   ]
  },
  {
   "cell_type": "code",
   "execution_count": 135,
   "metadata": {},
   "outputs": [
    {
     "name": "stdout",
     "output_type": "stream",
     "text": [
      "39.1298\n"
     ]
    }
   ],
   "source": [
    "# solving equestion \n",
    "M = 0.985600*dayofyear-3.251\n",
    "print(M)"
   ]
  },
  {
   "cell_type": "code",
   "execution_count": 136,
   "metadata": {},
   "outputs": [
    {
     "name": "stdout",
     "output_type": "stream",
     "text": [
      "322.9235296264643\n",
      "<class 'float'>\n"
     ]
    }
   ],
   "source": [
    "# solving equestion 3\n",
    "lamda = M + 1.916* math.sin(math.radians(M)) + 0.020* math.sin(math.radians(2*M)) +282.565\n",
    "print(lamda)\n",
    "print(type (lamda))"
   ]
  },
  {
   "cell_type": "code",
   "execution_count": 137,
   "metadata": {},
   "outputs": [
    {
     "name": "stdout",
     "output_type": "stream",
     "text": [
      "-13.875904573555996\n",
      "<class 'float'>\n"
     ]
    }
   ],
   "source": [
    "# solving equestion 2\n",
    "delta = math.degrees(math.asin(0.39779 * math.sin(math.radians(lamda))))\n",
    "print (delta)\n",
    "print(type(delta))"
   ]
  },
  {
   "cell_type": "code",
   "execution_count": null,
   "metadata": {},
   "outputs": [],
   "source": [
    "# lattitude\n",
    "phy = 40.78 # Lattitude of manhattan\n",
    "phy = input(\"Enter value of latitute\")\n",
    "phy= float(phy)\n",
    "print (phy)\n",
    "\n"
   ]
  },
  {
   "cell_type": "code",
   "execution_count": 141,
   "metadata": {},
   "outputs": [
    {
     "name": "stdout",
     "output_type": "stream",
     "text": [
      "10.64437559035349\n"
     ]
    }
   ],
   "source": [
    "# solving equestion 1\n",
    "phy = 40.78 # Lattitude of manhattan\n",
    "\n",
    "daylength= (2/15) * math.degrees(math.acos(math.cos(math.radians(alpha)) * (1 / (math.cos(math.radians(phy)))) * (1 / math.cos(math.radians(delta))) - (math.tan(math.radians(phy)) * math.tan(math.radians(delta)))))\n",
    "\n",
    "\n",
    "\n",
    "\n",
    "\n",
    "\n",
    "\n",
    "\n",
    "print (daylength)\n"
   ]
  },
  {
   "cell_type": "code",
   "execution_count": null,
   "metadata": {},
   "outputs": [],
   "source": []
  },
  {
   "cell_type": "code",
   "execution_count": null,
   "metadata": {},
   "outputs": [],
   "source": []
  },
  {
   "cell_type": "code",
   "execution_count": null,
   "metadata": {},
   "outputs": [],
   "source": []
  },
  {
   "cell_type": "code",
   "execution_count": null,
   "metadata": {},
   "outputs": [],
   "source": []
  },
  {
   "cell_type": "code",
   "execution_count": null,
   "metadata": {},
   "outputs": [],
   "source": []
  },
  {
   "cell_type": "code",
   "execution_count": null,
   "metadata": {},
   "outputs": [],
   "source": []
  },
  {
   "cell_type": "code",
   "execution_count": null,
   "metadata": {},
   "outputs": [],
   "source": []
  },
  {
   "cell_type": "code",
   "execution_count": null,
   "metadata": {},
   "outputs": [],
   "source": []
  },
  {
   "cell_type": "code",
   "execution_count": null,
   "metadata": {},
   "outputs": [],
   "source": []
  },
  {
   "cell_type": "code",
   "execution_count": null,
   "metadata": {},
   "outputs": [],
   "source": []
  }
 ],
 "metadata": {
  "kernelspec": {
   "display_name": "Python 3",
   "language": "python",
   "name": "python3"
  },
  "language_info": {
   "codemirror_mode": {
    "name": "ipython",
    "version": 3
   },
   "file_extension": ".py",
   "mimetype": "text/x-python",
   "name": "python",
   "nbconvert_exporter": "python",
   "pygments_lexer": "ipython3",
   "version": "3.7.1"
  }
 },
 "nbformat": 4,
 "nbformat_minor": 2
}
