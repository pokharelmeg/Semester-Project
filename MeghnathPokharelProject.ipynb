{
 "cells": [
  {
   "cell_type": "markdown",
   "metadata": {},
   "source": [
    "# Name: Meghnath Pokharel\n",
    "# Semester: Spring 2020\n",
    "# Project Area: Agronomy"
   ]
  },
  {
   "cell_type": "code",
   "execution_count": 45,
   "metadata": {},
   "outputs": [],
   "source": [
    "# Import modules\n",
    "import pandas as pd\n",
    "import numpy as np\n"
   ]
  },
  {
   "cell_type": "code",
   "execution_count": 65,
   "metadata": {},
   "outputs": [
    {
     "name": "stdout",
     "output_type": "stream",
     "text": [
      "<class 'pandas.core.frame.DataFrame'>\n"
     ]
    }
   ],
   "source": [
    "#dirname = 'C:/Users/mns_p/Desktop/Semester-Project/datasets/'\n",
    "#filename = 'HNT Yield data Ex1.csv'\n",
    "#df= pd.read_csv(dirname + filename)\n",
    "#print(type(df))\n",
    "df = pd.read_csv('datasets/HNT Yield data Ex1.csv')\n",
    "df.head()\n",
    "print(type(df))\n"
   ]
  },
  {
   "cell_type": "code",
   "execution_count": 66,
   "metadata": {},
   "outputs": [
    {
     "data": {
      "text/html": [
       "<div>\n",
       "<style scoped>\n",
       "    .dataframe tbody tr th:only-of-type {\n",
       "        vertical-align: middle;\n",
       "    }\n",
       "\n",
       "    .dataframe tbody tr th {\n",
       "        vertical-align: top;\n",
       "    }\n",
       "\n",
       "    .dataframe thead th {\n",
       "        text-align: right;\n",
       "    }\n",
       "</style>\n",
       "<table border=\"1\" class=\"dataframe\">\n",
       "  <thead>\n",
       "    <tr style=\"text-align: right;\">\n",
       "      <th></th>\n",
       "      <th>Geno</th>\n",
       "      <th>Trt</th>\n",
       "      <th>Rep</th>\n",
       "      <th>BM</th>\n",
       "      <th>TPN</th>\n",
       "      <th>TPW</th>\n",
       "      <th>TSW</th>\n",
       "      <th>OC</th>\n",
       "    </tr>\n",
       "  </thead>\n",
       "  <tbody>\n",
       "    <tr>\n",
       "      <th>0</th>\n",
       "      <td>Mercedes</td>\n",
       "      <td>Control</td>\n",
       "      <td>1</td>\n",
       "      <td>24.95</td>\n",
       "      <td>490</td>\n",
       "      <td>56.47</td>\n",
       "      <td>33</td>\n",
       "      <td>46.36363636</td>\n",
       "    </tr>\n",
       "    <tr>\n",
       "      <th>1</th>\n",
       "      <td>Mercedes</td>\n",
       "      <td>Control</td>\n",
       "      <td>2</td>\n",
       "      <td>25.51</td>\n",
       "      <td>583</td>\n",
       "      <td>64.27</td>\n",
       "      <td>34.55</td>\n",
       "      <td>43.15120712</td>\n",
       "    </tr>\n",
       "    <tr>\n",
       "      <th>2</th>\n",
       "      <td>Mercedes</td>\n",
       "      <td>Control</td>\n",
       "      <td>3</td>\n",
       "      <td>33.56</td>\n",
       "      <td>455</td>\n",
       "      <td>47.78</td>\n",
       "      <td>27.77</td>\n",
       "      <td>42.91187739</td>\n",
       "    </tr>\n",
       "    <tr>\n",
       "      <th>3</th>\n",
       "      <td>Mercedes</td>\n",
       "      <td>HNT</td>\n",
       "      <td>1</td>\n",
       "      <td>26.9</td>\n",
       "      <td>471</td>\n",
       "      <td>54.32</td>\n",
       "      <td>30.85</td>\n",
       "      <td>44.7715736</td>\n",
       "    </tr>\n",
       "    <tr>\n",
       "      <th>4</th>\n",
       "      <td>Mercedes</td>\n",
       "      <td>HNT</td>\n",
       "      <td>2</td>\n",
       "      <td>26.61</td>\n",
       "      <td>462</td>\n",
       "      <td>47.31</td>\n",
       "      <td>25.73</td>\n",
       "      <td>41.7115629</td>\n",
       "    </tr>\n",
       "  </tbody>\n",
       "</table>\n",
       "</div>"
      ],
      "text/plain": [
       "       Geno      Trt  Rep     BM  TPN    TPW    TSW          OC \n",
       "0  Mercedes  Control    1  24.95  490  56.47     33  46.36363636\n",
       "1  Mercedes  Control    2  25.51  583  64.27  34.55  43.15120712\n",
       "2  Mercedes  Control    3  33.56  455  47.78  27.77  42.91187739\n",
       "3  Mercedes      HNT    1   26.9  471  54.32  30.85   44.7715736\n",
       "4  Mercedes      HNT    2  26.61  462  47.31  25.73   41.7115629"
      ]
     },
     "execution_count": 66,
     "metadata": {},
     "output_type": "execute_result"
    }
   ],
   "source": [
    "df.head(5)"
   ]
  },
  {
   "cell_type": "code",
   "execution_count": 74,
   "metadata": {},
   "outputs": [
    {
     "name": "stdout",
     "output_type": "stream",
     "text": [
      "           Geno      Trt  Rep     BM    TPN    TPW    TSW        OC \n",
      "0      Mercedes  Control    1  24.95  490.0  56.47  33.00  46.363636\n",
      "1      Mercedes  Control    2  25.51  583.0  64.27  34.55  43.151207\n",
      "2      Mercedes  Control    3  33.56  455.0  47.78  27.77  42.911877\n",
      "3      Mercedes      HNT    1  26.90  471.0  54.32  30.85  44.771574\n",
      "4      Mercedes      HNT    2  26.61  462.0  47.31  25.73  41.711563\n",
      "5      Mercedes      HNT    3  31.10  502.0  52.07  29.65  41.076923\n",
      "6     Edimax CL  Control    1  29.20  513.0  59.30  32.59  40.406250\n",
      "7     Edimax CL  Control    2  31.09  467.0  52.37  30.61  42.605364\n",
      "8     Edimax CL  Control    3  33.80  475.0  66.99  36.46  43.689320\n",
      "9     Edimax CL      HNT    1  34.40  430.0  48.40  24.12  40.051151\n",
      "10    Edimax CL      HNT    2  32.80  496.0  61.83  37.39  43.427110\n",
      "11    Edimax CL      HNT    3  33.71  500.0  42.16  26.14  38.333333\n",
      "12      Popular  Control    1  28.69  494.0  60.42  35.13  42.000000\n",
      "13      Popular  Control    2  31.50  463.0  45.48  25.03  43.181818\n",
      "14      Popular  Control    3  27.44  429.0  61.86  34.68  40.760456\n",
      "15      Popular      HNT    1  29.20  442.0  46.97  26.11  38.284994\n",
      "16      Popular      HNT    2  30.42  483.0  50.63  27.92  41.620253\n",
      "17      Popular      HNT    3  25.30  521.0  56.41  31.02  41.666667\n",
      "18        46W94  Control    1  26.64  500.0  49.70  26.89  38.560411\n",
      "19        46W94  Control    2  34.24  459.0  49.64  27.43  38.523077\n",
      "20        46W94  Control    3  36.97  524.0  54.65  28.75  33.360489\n",
      "21        46W94      HNT    1  35.80  580.0  59.23  28.90  40.990874\n",
      "22        46W94      HNT    2  29.55  468.0  48.06  25.70  41.645244\n",
      "23        46W94      HNT    3  34.31  540.0  59.75  32.58  40.307692\n",
      "24      Wichita  Control    1  26.50  435.0  40.50  16.92  36.581633\n",
      "25      Wichita  Control    2  32.60  456.0  49.21  18.45  37.855362\n",
      "26      Wichita  Control    3  28.64  418.0  44.55  21.55  36.237624\n",
      "27      Wichita      HNT    1  26.74  319.0  34.04  16.13  39.090909\n",
      "28      Wichita      HNT    2  25.60  422.0  26.52  13.21  37.085427\n",
      "29      Wichita      HNT    3  24.38    NaN    NaN    NaN  35.622642\n",
      "30        Riley  Control    1  26.00  383.0  54.10  27.48  41.129653\n",
      "31        Riley  Control    2  30.00  460.0  48.03  22.51  39.799750\n",
      "32        Riley  Control    3  27.97  403.0  39.78  22.45        NaN\n",
      "33        Riley      HNT    1  29.41  484.0  46.84  21.51  39.740260\n",
      "34        Riley      HNT    2  28.30  480.0  41.54  19.28  38.245161\n",
      "35        Riley      HNT    3  23.70  521.0  41.43  19.04  39.130435\n",
      "36     DKW44-10  Control    1  30.65  389.0  36.48  21.63  33.906250\n",
      "37     DKW44-10  Control    2  30.90  380.0  39.91  17.41  35.025381\n",
      "38     DKW44-10  Control    3  35.80  375.0  38.21  18.51  36.744186\n",
      "39     DKW44-10      HNT    1  25.50  258.0  28.55  15.06  31.498079\n",
      "40     DKW44-10      HNT    2  26.98  350.0  30.38  14.68  32.103896\n",
      "41     DKW44-10      HNT    3  26.29  289.0  28.47  11.66  31.792829\n",
      "42     DKW46-15  Control    1  28.60  486.0  45.87  25.21  40.155039\n",
      "43     DKW46-15  Control    2  30.67  482.0  49.11  21.01  43.552124\n",
      "44     DKW46-15  Control    3  32.14  518.0  42.14  22.75  42.857143\n",
      "45     DKW46-15      HNT    1  22.20  367.0  37.21  19.57  38.307692\n",
      "46     DKW46-15      HNT    2  23.77  512.0  33.24  17.88  39.534884\n",
      "47     DKW46-15      HNT    3  24.80  316.0  24.78  13.27  37.837838\n",
      "48  HyCLASS225W  Control    1  29.40  537.0  58.29  28.46  42.953692\n",
      "49  HyCLASS225W  Control    2  26.10  525.0  62.13  30.73  42.191083\n",
      "50  HyCLASS225W  Control    3    NaN  512.0  67.45  36.11  44.478764\n",
      "51  HyCLASS225W      HNT    1  22.89  298.0  30.35  15.63  37.016435\n",
      "52  HyCLASS225W      HNT    2  29.69  335.0  40.53  18.30  38.172236\n",
      "53  HyCLASS225W      HNT    3    NaN    NaN    NaN    NaN        NaN\n",
      "54        Hekip  Control    1  35.68  391.0  35.60  17.25  41.068702\n",
      "55        Hekip  Control    2  36.69  406.0  48.24  26.14  41.698842\n",
      "56        Hekip  Control    3  33.76    NaN    NaN    NaN        NaN\n",
      "57        Hekip      HNT    1  26.60  417.0  26.49  12.80  38.461538\n",
      "58        Hekip      HNT    2  27.96  414.0  39.98  22.63  33.974026\n",
      "59        Hekip      HNT    3  23.22    NaN    NaN    NaN  34.330709\n",
      "<class 'pandas.core.frame.DataFrame'>\n"
     ]
    }
   ],
   "source": [
    "missing_values = [\"m\"]\n",
    "df= pd.read_csv(\"datasets/HNT Yield data Ex1.csv\", na_values = missing_values)\n",
    "df.isna().sum()\n",
    "#df.isnull()\n",
    "print(df)\n",
    "print(type(df))"
   ]
  },
  {
   "cell_type": "code",
   "execution_count": null,
   "metadata": {},
   "outputs": [],
   "source": [
    "def avg_geno_trt (Geno,Trt,Rep,BM,TPN,TPW,TSW,OC):\n",
    "    \n",
    "    #compute YD\n",
    "    YD = \n",
    "    \n",
    "    \n"
   ]
  },
  {
   "cell_type": "code",
   "execution_count": 76,
   "metadata": {},
   "outputs": [
    {
     "name": "stdout",
     "output_type": "stream",
     "text": [
      "1\n",
      "2\n",
      "3\n",
      "4\n"
     ]
    }
   ],
   "source": [
    "for i in range(1,5):\n",
    "    print(i)"
   ]
  },
  {
   "cell_type": "code",
   "execution_count": null,
   "metadata": {},
   "outputs": [],
   "source": []
  }
 ],
 "metadata": {
  "kernelspec": {
   "display_name": "Python 3",
   "language": "python",
   "name": "python3"
  },
  "language_info": {
   "codemirror_mode": {
    "name": "ipython",
    "version": 3
   },
   "file_extension": ".py",
   "mimetype": "text/x-python",
   "name": "python",
   "nbconvert_exporter": "python",
   "pygments_lexer": "ipython3",
   "version": "3.7.1"
  }
 },
 "nbformat": 4,
 "nbformat_minor": 2
}
