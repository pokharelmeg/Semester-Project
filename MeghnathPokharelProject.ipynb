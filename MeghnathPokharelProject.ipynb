{
 "cells": [
  {
   "cell_type": "markdown",
   "metadata": {},
   "source": [
    "Name: Meghnath Pokharel\n",
    "\n",
    "Semester: Spring 2020\n",
    "\n",
    "Project Area: Agronomy"
   ]
  },
  {
   "cell_type": "markdown",
   "metadata": {},
   "source": [
    "Title: Heat susceptibility index as a measure of High night temperature tolerance in winter canola"
   ]
  },
  {
   "cell_type": "markdown",
   "metadata": {},
   "source": [
    "This project aims to write the python codes to calculate heat susceptibility indices (HSI) for yield and seed quality traits in response to high night temperature (HNT) in winter canola. HSI is widely used to classify large number of genotypes in to tolerent and susceptible genotypes under heat stress environments. \n",
    "HSI is calculated using the following formula as by Fisher and Maurer (1978).\n",
    "HSI = [l-YD/YP]/D\n",
    "\n",
    "Where, YD represents mean of the genotypes in HNT stress, YP represents mean of the genotypes under control.\n",
    "D represents 1- [mean YD of all genotypes/mean YP of all genotypes]."
   ]
  },
  {
   "cell_type": "code",
   "execution_count": null,
   "metadata": {},
   "outputs": [],
   "source": [
    "# Inputs"
   ]
  },
  {
   "cell_type": "code",
   "execution_count": 66,
   "metadata": {},
   "outputs": [],
   "source": [
    "# Import modules\n",
    "import pandas as pd\n",
    "import numpy as np"
   ]
  },
  {
   "cell_type": "code",
   "execution_count": 67,
   "metadata": {},
   "outputs": [
    {
     "data": {
      "text/html": [
       "<div>\n",
       "<style scoped>\n",
       "    .dataframe tbody tr th:only-of-type {\n",
       "        vertical-align: middle;\n",
       "    }\n",
       "\n",
       "    .dataframe tbody tr th {\n",
       "        vertical-align: top;\n",
       "    }\n",
       "\n",
       "    .dataframe thead th {\n",
       "        text-align: right;\n",
       "    }\n",
       "</style>\n",
       "<table border=\"1\" class=\"dataframe\">\n",
       "  <thead>\n",
       "    <tr style=\"text-align: right;\">\n",
       "      <th></th>\n",
       "      <th>geno</th>\n",
       "      <th>trt</th>\n",
       "      <th>rep</th>\n",
       "      <th>TSW</th>\n",
       "    </tr>\n",
       "  </thead>\n",
       "  <tbody>\n",
       "    <tr>\n",
       "      <th>0</th>\n",
       "      <td>Mercedes</td>\n",
       "      <td>Control</td>\n",
       "      <td>1</td>\n",
       "      <td>33.00</td>\n",
       "    </tr>\n",
       "    <tr>\n",
       "      <th>1</th>\n",
       "      <td>Mercedes</td>\n",
       "      <td>Control</td>\n",
       "      <td>2</td>\n",
       "      <td>34.55</td>\n",
       "    </tr>\n",
       "    <tr>\n",
       "      <th>2</th>\n",
       "      <td>Mercedes</td>\n",
       "      <td>Control</td>\n",
       "      <td>3</td>\n",
       "      <td>27.77</td>\n",
       "    </tr>\n",
       "    <tr>\n",
       "      <th>3</th>\n",
       "      <td>Mercedes</td>\n",
       "      <td>HNT</td>\n",
       "      <td>1</td>\n",
       "      <td>30.85</td>\n",
       "    </tr>\n",
       "    <tr>\n",
       "      <th>4</th>\n",
       "      <td>Mercedes</td>\n",
       "      <td>HNT</td>\n",
       "      <td>2</td>\n",
       "      <td>25.73</td>\n",
       "    </tr>\n",
       "    <tr>\n",
       "      <th>5</th>\n",
       "      <td>Mercedes</td>\n",
       "      <td>HNT</td>\n",
       "      <td>3</td>\n",
       "      <td>29.65</td>\n",
       "    </tr>\n",
       "  </tbody>\n",
       "</table>\n",
       "</div>"
      ],
      "text/plain": [
       "       geno      trt  rep    TSW\n",
       "0  Mercedes  Control    1  33.00\n",
       "1  Mercedes  Control    2  34.55\n",
       "2  Mercedes  Control    3  27.77\n",
       "3  Mercedes      HNT    1  30.85\n",
       "4  Mercedes      HNT    2  25.73\n",
       "5  Mercedes      HNT    3  29.65"
      ]
     },
     "execution_count": 67,
     "metadata": {},
     "output_type": "execute_result"
    }
   ],
   "source": [
    "# Importing data\n",
    "# working with uploaded data files by making datasets folder in the repository \n",
    "df_HNT_TSW_Ex1 = pd.read_csv('datasets/HNT_TSW_Data_Ex1.csv')\n",
    "df_HNT_TSW_Ex1.head(6)"
   ]
  },
  {
   "cell_type": "markdown",
   "metadata": {},
   "source": [
    "In the above dataframe, 'geno', 'trt', 'rep' and 'TSW' represent genotypes of winter canola, treatments, replications and total seed weight per plant respectively. In the first experiment, 10 genotypes of canola were tested in two treatments (Control and HNT) with three replications in each treatment."
   ]
  },
  {
   "cell_type": "code",
   "execution_count": 61,
   "metadata": {},
   "outputs": [],
   "source": [
    "# Handling with missing values\n",
    "df_HNT_TSW_Ex1.isna().sum()\n",
    "\n",
    "# filling NaNs with immediate front values\n",
    "df_HNT_TSW_Ex1 = df_HNT_TSW_Ex1.fillna(method='pad')"
   ]
  },
  {
   "cell_type": "code",
   "execution_count": 63,
   "metadata": {},
   "outputs": [
    {
     "name": "stdout",
     "output_type": "stream",
     "text": [
      "                     rep        TSW\n",
      "geno        trt                    \n",
      "46W94       Control    2  27.690000\n",
      "            HNT        2  29.060000\n",
      "DKW44-10    Control    2  19.183333\n",
      "            HNT        2  13.800000\n",
      "DKW46-15    Control    2  22.990000\n",
      "            HNT        2  16.906667\n",
      "Edimax CL   Control    2  33.220000\n",
      "            HNT        2  29.216667\n",
      "Hekip       Control    2  23.176667\n",
      "            HNT        2  19.353333\n",
      "HyCLASS225W Control    2  31.766667\n",
      "            HNT        2  17.410000\n",
      "Mercedes    Control    2  31.773333\n",
      "            HNT        2  28.743333\n",
      "Popular     Control    2  31.613333\n",
      "            HNT        2  28.350000\n",
      "Riley       Control    2  24.146667\n",
      "            HNT        2  19.943333\n",
      "Wichita     Control    2  18.973333\n",
      "            HNT        2  14.183333\n"
     ]
    }
   ],
   "source": [
    "# Calculate means of each genotypes in each treatment \n",
    "df_HNT_TSW_Ex1_means = df_HNT_TSW_Ex1.groupby([\"geno\", \"trt\"]).mean()\n",
    "print(df_HNT_TSW_Ex1_means)"
   ]
  },
  {
   "cell_type": "code",
   "execution_count": 65,
   "metadata": {},
   "outputs": [
    {
     "name": "stdout",
     "output_type": "stream",
     "text": [
      "TSW    31.773333\n",
      "dtype: float64\n",
      "TSW    28.743333\n",
      "dtype: float64\n"
     ]
    }
   ],
   "source": [
    "result_mean_YP = df_HNT_TSW_Ex1[['TSW']].iloc[[0,1,2]].mean(axis=0)\n",
    "result_mean_YD = df_HNT_TSW_Ex1[['TSW']].iloc[[3,4,5]].mean(axis=0)\n",
    "print(result_mean_YP)\n",
    "print(result_mean_YD)"
   ]
  },
  {
   "cell_type": "code",
   "execution_count": null,
   "metadata": {},
   "outputs": [],
   "source": []
  }
 ],
 "metadata": {
  "kernelspec": {
   "display_name": "Python 3",
   "language": "python",
   "name": "python3"
  },
  "language_info": {
   "codemirror_mode": {
    "name": "ipython",
    "version": 3
   },
   "file_extension": ".py",
   "mimetype": "text/x-python",
   "name": "python",
   "nbconvert_exporter": "python",
   "pygments_lexer": "ipython3",
   "version": "3.7.1"
  }
 },
 "nbformat": 4,
 "nbformat_minor": 2
}
