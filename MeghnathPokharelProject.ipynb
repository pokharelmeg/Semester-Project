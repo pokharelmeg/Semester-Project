{
 "cells": [
  {
   "cell_type": "markdown",
   "metadata": {},
   "source": [
    "Name: Meghnath Pokharel\n",
    "\n",
    "Semester: Spring 2020\n",
    "\n",
    "Project Area: Agronomy"
   ]
  },
  {
   "cell_type": "markdown",
   "metadata": {},
   "source": [
    "Title: Heat susceptibility index as a measure of High night temperature tolerance in winter canola"
   ]
  },
  {
   "cell_type": "markdown",
   "metadata": {},
   "source": [
    "This project aims to write the python codes to calculate heat susceptibility indices (HSI) for yield and seed quality traits in response to high night temperature (HNT) in winter canola. HSI is widely used to classify large number of genotypes in to tolerent and susceptible genotypes under heat stress environments. \n",
    "HSI is calculated using the following formula as by Fisher and Maurer (1978).\n",
    "HSI = [l-YD/YP]/D\n",
    "\n",
    "Where, YD represents mean of the genotypes in HNT stress, YP represents mean of the genotypes under control.\n",
    "D represents 1- [mean YD of all genotypes/mean YP of all genotypes]."
   ]
  },
  {
   "cell_type": "code",
   "execution_count": 66,
   "metadata": {},
   "outputs": [],
   "source": [
    "# Import modules\n",
    "import pandas as pd\n",
    "import numpy as np"
   ]
  },
  {
   "cell_type": "code",
   "execution_count": 67,
   "metadata": {},
   "outputs": [
    {
     "data": {
      "text/html": [
       "<div>\n",
       "<style scoped>\n",
       "    .dataframe tbody tr th:only-of-type {\n",
       "        vertical-align: middle;\n",
       "    }\n",
       "\n",
       "    .dataframe tbody tr th {\n",
       "        vertical-align: top;\n",
       "    }\n",
       "\n",
       "    .dataframe thead th {\n",
       "        text-align: right;\n",
       "    }\n",
       "</style>\n",
       "<table border=\"1\" class=\"dataframe\">\n",
       "  <thead>\n",
       "    <tr style=\"text-align: right;\">\n",
       "      <th></th>\n",
       "      <th>geno</th>\n",
       "      <th>trt</th>\n",
       "      <th>rep</th>\n",
       "      <th>TSW</th>\n",
       "    </tr>\n",
       "  </thead>\n",
       "  <tbody>\n",
       "    <tr>\n",
       "      <th>0</th>\n",
       "      <td>Mercedes</td>\n",
       "      <td>Control</td>\n",
       "      <td>1</td>\n",
       "      <td>33.00</td>\n",
       "    </tr>\n",
       "    <tr>\n",
       "      <th>1</th>\n",
       "      <td>Mercedes</td>\n",
       "      <td>Control</td>\n",
       "      <td>2</td>\n",
       "      <td>34.55</td>\n",
       "    </tr>\n",
       "    <tr>\n",
       "      <th>2</th>\n",
       "      <td>Mercedes</td>\n",
       "      <td>Control</td>\n",
       "      <td>3</td>\n",
       "      <td>27.77</td>\n",
       "    </tr>\n",
       "    <tr>\n",
       "      <th>3</th>\n",
       "      <td>Mercedes</td>\n",
       "      <td>HNT</td>\n",
       "      <td>1</td>\n",
       "      <td>30.85</td>\n",
       "    </tr>\n",
       "    <tr>\n",
       "      <th>4</th>\n",
       "      <td>Mercedes</td>\n",
       "      <td>HNT</td>\n",
       "      <td>2</td>\n",
       "      <td>25.73</td>\n",
       "    </tr>\n",
       "    <tr>\n",
       "      <th>5</th>\n",
       "      <td>Mercedes</td>\n",
       "      <td>HNT</td>\n",
       "      <td>3</td>\n",
       "      <td>29.65</td>\n",
       "    </tr>\n",
       "  </tbody>\n",
       "</table>\n",
       "</div>"
      ],
      "text/plain": [
       "       geno      trt  rep    TSW\n",
       "0  Mercedes  Control    1  33.00\n",
       "1  Mercedes  Control    2  34.55\n",
       "2  Mercedes  Control    3  27.77\n",
       "3  Mercedes      HNT    1  30.85\n",
       "4  Mercedes      HNT    2  25.73\n",
       "5  Mercedes      HNT    3  29.65"
      ]
     },
     "execution_count": 67,
     "metadata": {},
     "output_type": "execute_result"
    }
   ],
   "source": [
    "# Importing data\n",
    "# working with uploaded data files by making datasets folder in the repository \n",
    "df_HNT_TSW_Ex1 = pd.read_csv('datasets/HNT_TSW_Data_Ex1.csv')\n",
    "df_HNT_TSW_Ex1.head(6)"
   ]
  },
  {
   "cell_type": "markdown",
   "metadata": {},
   "source": [
    "In the above dataframe, 'geno', 'trt', 'rep' and 'TSW' represent genotypes of winter canola, treatments, replications and total seed weight per plant respectively. In the first experiment, 10 genotypes of canola were tested in two treatments (Control and HNT) with three replications in each treatment."
   ]
  },
  {
   "cell_type": "code",
   "execution_count": 69,
   "metadata": {},
   "outputs": [],
   "source": [
    "# Handling with missing values\n",
    "df_HNT_TSW_Ex1.isna().sum()\n",
    "\n",
    "# filling NaNs with immediate front values\n",
    "df_HNT_TSW_Ex1 = df_HNT_TSW_Ex1.fillna(method='pad')"
   ]
  },
  {
   "cell_type": "code",
   "execution_count": 92,
   "metadata": {},
   "outputs": [
    {
     "data": {
      "text/html": [
       "<div>\n",
       "<style scoped>\n",
       "    .dataframe tbody tr th:only-of-type {\n",
       "        vertical-align: middle;\n",
       "    }\n",
       "\n",
       "    .dataframe tbody tr th {\n",
       "        vertical-align: top;\n",
       "    }\n",
       "\n",
       "    .dataframe thead th {\n",
       "        text-align: right;\n",
       "    }\n",
       "</style>\n",
       "<table border=\"1\" class=\"dataframe\">\n",
       "  <thead>\n",
       "    <tr style=\"text-align: right;\">\n",
       "      <th></th>\n",
       "      <th></th>\n",
       "      <th>mean</th>\n",
       "    </tr>\n",
       "    <tr>\n",
       "      <th>geno</th>\n",
       "      <th>trt</th>\n",
       "      <th></th>\n",
       "    </tr>\n",
       "  </thead>\n",
       "  <tbody>\n",
       "    <tr>\n",
       "      <th rowspan=\"2\" valign=\"top\">46W94</th>\n",
       "      <th>Control</th>\n",
       "      <td>27.69</td>\n",
       "    </tr>\n",
       "    <tr>\n",
       "      <th>HNT</th>\n",
       "      <td>29.06</td>\n",
       "    </tr>\n",
       "    <tr>\n",
       "      <th rowspan=\"2\" valign=\"top\">DKW44-10</th>\n",
       "      <th>Control</th>\n",
       "      <td>19.18</td>\n",
       "    </tr>\n",
       "    <tr>\n",
       "      <th>HNT</th>\n",
       "      <td>13.80</td>\n",
       "    </tr>\n",
       "    <tr>\n",
       "      <th rowspan=\"2\" valign=\"top\">DKW46-15</th>\n",
       "      <th>Control</th>\n",
       "      <td>22.99</td>\n",
       "    </tr>\n",
       "    <tr>\n",
       "      <th>HNT</th>\n",
       "      <td>16.91</td>\n",
       "    </tr>\n",
       "    <tr>\n",
       "      <th rowspan=\"2\" valign=\"top\">Edimax CL</th>\n",
       "      <th>Control</th>\n",
       "      <td>33.22</td>\n",
       "    </tr>\n",
       "    <tr>\n",
       "      <th>HNT</th>\n",
       "      <td>29.22</td>\n",
       "    </tr>\n",
       "    <tr>\n",
       "      <th rowspan=\"2\" valign=\"top\">Hekip</th>\n",
       "      <th>Control</th>\n",
       "      <td>23.18</td>\n",
       "    </tr>\n",
       "    <tr>\n",
       "      <th>HNT</th>\n",
       "      <td>19.35</td>\n",
       "    </tr>\n",
       "    <tr>\n",
       "      <th rowspan=\"2\" valign=\"top\">HyCLASS225W</th>\n",
       "      <th>Control</th>\n",
       "      <td>31.77</td>\n",
       "    </tr>\n",
       "    <tr>\n",
       "      <th>HNT</th>\n",
       "      <td>17.41</td>\n",
       "    </tr>\n",
       "    <tr>\n",
       "      <th rowspan=\"2\" valign=\"top\">Mercedes</th>\n",
       "      <th>Control</th>\n",
       "      <td>31.77</td>\n",
       "    </tr>\n",
       "    <tr>\n",
       "      <th>HNT</th>\n",
       "      <td>28.74</td>\n",
       "    </tr>\n",
       "    <tr>\n",
       "      <th rowspan=\"2\" valign=\"top\">Popular</th>\n",
       "      <th>Control</th>\n",
       "      <td>31.61</td>\n",
       "    </tr>\n",
       "    <tr>\n",
       "      <th>HNT</th>\n",
       "      <td>28.35</td>\n",
       "    </tr>\n",
       "    <tr>\n",
       "      <th rowspan=\"2\" valign=\"top\">Riley</th>\n",
       "      <th>Control</th>\n",
       "      <td>24.15</td>\n",
       "    </tr>\n",
       "    <tr>\n",
       "      <th>HNT</th>\n",
       "      <td>19.94</td>\n",
       "    </tr>\n",
       "    <tr>\n",
       "      <th rowspan=\"2\" valign=\"top\">Wichita</th>\n",
       "      <th>Control</th>\n",
       "      <td>18.97</td>\n",
       "    </tr>\n",
       "    <tr>\n",
       "      <th>HNT</th>\n",
       "      <td>14.18</td>\n",
       "    </tr>\n",
       "  </tbody>\n",
       "</table>\n",
       "</div>"
      ],
      "text/plain": [
       "                      mean\n",
       "geno        trt           \n",
       "46W94       Control  27.69\n",
       "            HNT      29.06\n",
       "DKW44-10    Control  19.18\n",
       "            HNT      13.80\n",
       "DKW46-15    Control  22.99\n",
       "            HNT      16.91\n",
       "Edimax CL   Control  33.22\n",
       "            HNT      29.22\n",
       "Hekip       Control  23.18\n",
       "            HNT      19.35\n",
       "HyCLASS225W Control  31.77\n",
       "            HNT      17.41\n",
       "Mercedes    Control  31.77\n",
       "            HNT      28.74\n",
       "Popular     Control  31.61\n",
       "            HNT      28.35\n",
       "Riley       Control  24.15\n",
       "            HNT      19.94\n",
       "Wichita     Control  18.97\n",
       "            HNT      14.18"
      ]
     },
     "execution_count": 92,
     "metadata": {},
     "output_type": "execute_result"
    }
   ],
   "source": [
    "# Calculating the mean of control and HNT treatments for each genotype\n",
    "df_HNT_TSW_Ex1.groupby(['geno','trt'])['TSW'].agg(['mean']).round(2)"
   ]
  },
  {
   "cell_type": "code",
   "execution_count": 91,
   "metadata": {},
   "outputs": [
    {
     "name": "stdout",
     "output_type": "stream",
     "text": [
      "          TSW\n",
      "0   28.743333\n",
      "1   28.743333\n",
      "2   28.743333\n",
      "3   31.773333\n",
      "4   31.773333\n",
      "5   31.773333\n",
      "6   28.743333\n",
      "7   28.743333\n",
      "8   28.743333\n",
      "9   31.773333\n",
      "10  31.773333\n",
      "11  31.773333\n",
      "12  28.743333\n",
      "13  28.743333\n",
      "14  28.743333\n",
      "15  31.773333\n",
      "16  31.773333\n",
      "17  31.773333\n",
      "18  28.743333\n",
      "19  28.743333\n",
      "20  28.743333\n",
      "21  31.773333\n",
      "22  31.773333\n",
      "23  31.773333\n",
      "24  28.743333\n",
      "25  28.743333\n",
      "26  28.743333\n",
      "27  31.773333\n",
      "28  31.773333\n",
      "29  31.773333\n",
      "30  28.743333\n",
      "31  28.743333\n",
      "32  28.743333\n",
      "33  31.773333\n",
      "34  31.773333\n",
      "35  31.773333\n",
      "36  28.743333\n",
      "37  28.743333\n",
      "38  28.743333\n",
      "39  31.773333\n",
      "40  31.773333\n",
      "41  31.773333\n",
      "42  28.743333\n",
      "43  28.743333\n",
      "44  28.743333\n",
      "45  31.773333\n",
      "46  31.773333\n",
      "47  31.773333\n",
      "48  28.743333\n",
      "49  28.743333\n",
      "50  28.743333\n",
      "51  31.773333\n",
      "52  31.773333\n",
      "53  31.773333\n",
      "54  28.743333\n",
      "55  28.743333\n",
      "56  28.743333\n",
      "57  31.773333\n",
      "58  31.773333\n",
      "59  31.773333\n"
     ]
    },
    {
     "data": {
      "text/plain": [
       "array([None], dtype=object)"
      ]
     },
     "execution_count": 91,
     "metadata": {},
     "output_type": "execute_result"
    }
   ],
   "source": [
    "def map_function(x):\n",
    "    if x == \"HNT\":\n",
    "        return df_HNT_TSW_Ex1[['TSW']].iloc[[0,1,2]].mean(axis=0)\n",
    "    else:\n",
    "        return df_HNT_TSW_Ex1[['TSW']].iloc[[3,4,5]].mean(axis=0)\n",
    "\n",
    "df_HNT_TSW_Ex1['new_table'] = print(df_HNT_TSW_Ex1.trt.apply(map_function))\n",
    "df_HNT_TSW_Ex1.new_table.unique()"
   ]
  },
  {
   "cell_type": "code",
   "execution_count": 63,
   "metadata": {},
   "outputs": [
    {
     "name": "stdout",
     "output_type": "stream",
     "text": [
      "                     rep        TSW\n",
      "geno        trt                    \n",
      "46W94       Control    2  27.690000\n",
      "            HNT        2  29.060000\n",
      "DKW44-10    Control    2  19.183333\n",
      "            HNT        2  13.800000\n",
      "DKW46-15    Control    2  22.990000\n",
      "            HNT        2  16.906667\n",
      "Edimax CL   Control    2  33.220000\n",
      "            HNT        2  29.216667\n",
      "Hekip       Control    2  23.176667\n",
      "            HNT        2  19.353333\n",
      "HyCLASS225W Control    2  31.766667\n",
      "            HNT        2  17.410000\n",
      "Mercedes    Control    2  31.773333\n",
      "            HNT        2  28.743333\n",
      "Popular     Control    2  31.613333\n",
      "            HNT        2  28.350000\n",
      "Riley       Control    2  24.146667\n",
      "            HNT        2  19.943333\n",
      "Wichita     Control    2  18.973333\n",
      "            HNT        2  14.183333\n"
     ]
    }
   ],
   "source": [
    "# Calculate means of each genotypes in each treatment \n",
    "df_HNT_TSW_Ex1_means = df_HNT_TSW_Ex1.groupby([\"geno\", \"trt\"]).mean()\n",
    "print(df_HNT_TSW_Ex1_means)"
   ]
  },
  {
   "cell_type": "code",
   "execution_count": 65,
   "metadata": {},
   "outputs": [
    {
     "name": "stdout",
     "output_type": "stream",
     "text": [
      "TSW    31.773333\n",
      "dtype: float64\n",
      "TSW    28.743333\n",
      "dtype: float64\n"
     ]
    }
   ],
   "source": [
    "result_mean_YP = df_HNT_TSW_Ex1[['TSW']].iloc[[0,1,2]].mean(axis=0)\n",
    "result_mean_YD = df_HNT_TSW_Ex1[['TSW']].iloc[[3,4,5]].mean(axis=0)\n",
    "print(result_mean_YP)\n",
    "print(result_mean_YD)"
   ]
  },
  {
   "cell_type": "code",
   "execution_count": null,
   "metadata": {},
   "outputs": [],
   "source": []
  }
 ],
 "metadata": {
  "kernelspec": {
   "display_name": "Python 3",
   "language": "python",
   "name": "python3"
  },
  "language_info": {
   "codemirror_mode": {
    "name": "ipython",
    "version": 3
   },
   "file_extension": ".py",
   "mimetype": "text/x-python",
   "name": "python",
   "nbconvert_exporter": "python",
   "pygments_lexer": "ipython3",
   "version": "3.7.1"
  }
 },
 "nbformat": 4,
 "nbformat_minor": 2
}
