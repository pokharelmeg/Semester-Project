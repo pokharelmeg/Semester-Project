{
 "cells": [
  {
   "cell_type": "code",
   "execution_count": 9,
   "metadata": {},
   "outputs": [],
   "source": [
    "# Import modules\n",
    "import pandas as pd\n",
    "import numpy as np\n",
    "import matplotlib.pyplot as plt\n",
    "from statsmodels.formula.api import ols\n",
    "from statsmodels.stats.anova import anova_lm\n",
    "from statsmodels.stats.multicomp import MultiComparison"
   ]
  },
  {
   "cell_type": "code",
   "execution_count": 10,
   "metadata": {},
   "outputs": [
    {
     "data": {
      "text/html": [
       "<div>\n",
       "<style scoped>\n",
       "    .dataframe tbody tr th:only-of-type {\n",
       "        vertical-align: middle;\n",
       "    }\n",
       "\n",
       "    .dataframe tbody tr th {\n",
       "        vertical-align: top;\n",
       "    }\n",
       "\n",
       "    .dataframe thead th {\n",
       "        text-align: right;\n",
       "    }\n",
       "</style>\n",
       "<table border=\"1\" class=\"dataframe\">\n",
       "  <thead>\n",
       "    <tr style=\"text-align: right;\">\n",
       "      <th></th>\n",
       "      <th>geno</th>\n",
       "      <th>trt</th>\n",
       "      <th>rep</th>\n",
       "      <th>TSW</th>\n",
       "    </tr>\n",
       "  </thead>\n",
       "  <tbody>\n",
       "    <tr>\n",
       "      <th>0</th>\n",
       "      <td>Mercedes</td>\n",
       "      <td>Control</td>\n",
       "      <td>1</td>\n",
       "      <td>33.00</td>\n",
       "    </tr>\n",
       "    <tr>\n",
       "      <th>1</th>\n",
       "      <td>Mercedes</td>\n",
       "      <td>Control</td>\n",
       "      <td>2</td>\n",
       "      <td>34.55</td>\n",
       "    </tr>\n",
       "    <tr>\n",
       "      <th>2</th>\n",
       "      <td>Mercedes</td>\n",
       "      <td>Control</td>\n",
       "      <td>3</td>\n",
       "      <td>27.77</td>\n",
       "    </tr>\n",
       "    <tr>\n",
       "      <th>3</th>\n",
       "      <td>Mercedes</td>\n",
       "      <td>HNT</td>\n",
       "      <td>1</td>\n",
       "      <td>30.85</td>\n",
       "    </tr>\n",
       "    <tr>\n",
       "      <th>4</th>\n",
       "      <td>Mercedes</td>\n",
       "      <td>HNT</td>\n",
       "      <td>2</td>\n",
       "      <td>25.73</td>\n",
       "    </tr>\n",
       "    <tr>\n",
       "      <th>5</th>\n",
       "      <td>Mercedes</td>\n",
       "      <td>HNT</td>\n",
       "      <td>3</td>\n",
       "      <td>29.65</td>\n",
       "    </tr>\n",
       "  </tbody>\n",
       "</table>\n",
       "</div>"
      ],
      "text/plain": [
       "       geno      trt  rep    TSW\n",
       "0  Mercedes  Control    1  33.00\n",
       "1  Mercedes  Control    2  34.55\n",
       "2  Mercedes  Control    3  27.77\n",
       "3  Mercedes      HNT    1  30.85\n",
       "4  Mercedes      HNT    2  25.73\n",
       "5  Mercedes      HNT    3  29.65"
      ]
     },
     "execution_count": 10,
     "metadata": {},
     "output_type": "execute_result"
    }
   ],
   "source": [
    "# Importing data\n",
    "# working with uploaded data files by making datasets folder in the repository \n",
    "df_HNT_TSW_Ex1 = pd.read_csv('datasets/HNT_TSW_Data_Ex1.csv')\n",
    "df_HNT_TSW_Ex1.head(6)"
   ]
  },
  {
   "cell_type": "code",
   "execution_count": 11,
   "metadata": {},
   "outputs": [],
   "source": [
    "# Handling with missing values\n",
    "df_HNT_TSW_Ex1.isna().sum()\n",
    "\n",
    "# filling NaNs with immediate front values\n",
    "df_HNT_TSW_Ex1 = df_HNT_TSW_Ex1.fillna(method='pad')"
   ]
  },
  {
   "cell_type": "code",
   "execution_count": 12,
   "metadata": {},
   "outputs": [
    {
     "name": "stdout",
     "output_type": "stream",
     "text": [
      "['Mercedes' 'Edimax CL' 'Popular' '46W94' 'Wichita' 'Riley' 'DKW44-10'\n",
      " 'DKW46-15' 'HyCLASS225W' 'Hekip']\n",
      "['Control' 'HNT']\n",
      "[1 2 3]\n",
      "(60, 4)\n"
     ]
    }
   ],
   "source": [
    "# Some useful properties of the datasets\n",
    "print(df_HNT_TSW_Ex1['geno'].unique())      # Genotypes\n",
    "print(df_HNT_TSW_Ex1['trt'].unique())       # Treatments\n",
    "print(df_HNT_TSW_Ex1['rep'].unique())       # Replications\n",
    "print(df_HNT_TSW_Ex1.shape) "
   ]
  },
  {
   "cell_type": "code",
   "execution_count": 16,
   "metadata": {},
   "outputs": [
    {
     "data": {
      "image/png": "[encoded data removed]",
      "text/plain": [
       "<Figure size 432x288 with 1 Axes>"
      ]
     },
     "metadata": {
      "needs_background": "light"
     },
     "output_type": "display_data"
    }
   ],
   "source": [
    "# examine total seed weight using boxplots\n",
    "df_HNT_TSW_Ex1.boxplot(column='TSW', by= 'geno')\n",
    "plt.show()"
   ]
  },
  {
   "cell_type": "code",
   "execution_count": null,
   "metadata": {},
   "outputs": [],
   "source": []
  },
  {
   "cell_type": "code",
   "execution_count": null,
   "metadata": {},
   "outputs": [],
   "source": []
  }
 ],
 "metadata": {
  "kernelspec": {
   "display_name": "Python 3",
   "language": "python",
   "name": "python3"
  },
  "language_info": {
   "codemirror_mode": {
    "name": "ipython",
    "version": 3
   },
   "file_extension": ".py",
   "mimetype": "text/x-python",
   "name": "python",
   "nbconvert_exporter": "python",
   "pygments_lexer": "ipython3",
   "version": "3.7.1"
  }
 },
 "nbformat": 4,
 "nbformat_minor": 2
}
