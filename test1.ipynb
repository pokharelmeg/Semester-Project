{
 "cells": [
  {
   "cell_type": "code",
   "execution_count": null,
   "metadata": {},
   "outputs": [],
   "source": [
    "# Import modules\n",
    "import pandas as pd\n",
    "import numpy as np"
   ]
  },
  {
   "cell_type": "code",
   "execution_count": null,
   "metadata": {},
   "outputs": [],
   "source": [
    "# Importing data\n",
    "#Two ways of working with data files\n",
    "\n",
    "#1 working with data directly from the web \n",
    "#dirname = 'https://raw.githubusercontent.com/pokharelmeg/Semester-Project/master/datasets/'\n",
    "#filename = 'HNT_Yield_Data_Ex1.csv'\n",
    "#df= pd.read_csv(dirname + filename)\n",
    "\n",
    "#2 working with uploaded data file by making datasets folder in the repository \n",
    "df_HNT_Ex1 = pd.read_csv('datasets/HNT_Yield_Data_Ex1.csv')\n",
    "df_HNT_Ex2 = pd.read_csv('datasets/HNT_Yield_Data_Ex2.csv')\n",
    "print(df_HNT_Ex1.head(6))\n",
    "print(df_HNT_Ex2.head(6))\n",
    "#print(type(df)"
   ]
  },
  {
   "cell_type": "code",
   "execution_count": null,
   "metadata": {},
   "outputs": [],
   "source": [
    "# Handling with missing values\n",
    "#df.isna().sum() # to check the missing values in the dataframe\n",
    "missing_values = [\"m\"]\n",
    "df_HNT_Ex1 = pd.read_csv('datasets/HNT_Yield_Data_Ex1.csv', na_values = missing_values)\n",
    "df_HNT_Ex2 = pd.read_csv('datasets/HNT_Yield_Data_Ex2.csv', na_values = missing_values)\n",
    "print(df_HNT_Ex1.tail(5))\n",
    "print(df_HNT_Ex2.tail(5))\n",
    "print(type(df))"
   ]
  }
 ],
 "metadata": {
  "kernelspec": {
   "display_name": "Python 3",
   "language": "python",
   "name": "python3"
  },
  "language_info": {
   "codemirror_mode": {
    "name": "ipython",
    "version": 3
   },
   "file_extension": ".py",
   "mimetype": "text/x-python",
   "name": "python",
   "nbconvert_exporter": "python",
   "pygments_lexer": "ipython3",
   "version": "3.7.1"
  }
 },
 "nbformat": 4,
 "nbformat_minor": 2
}
