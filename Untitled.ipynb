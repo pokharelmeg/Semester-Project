{
 "cells": [
  {
   "cell_type": "markdown",
   "metadata": {},
   "source": [
    "# Name: Meghnath Pokharel\n",
    "# Semester: Spring 2020\n",
    "# Project Area: Agronomy"
   ]
  },
  {
   "cell_type": "code",
   "execution_count": 1,
   "metadata": {},
   "outputs": [],
   "source": [
    "# Import modules\n",
    "import pandas as pd\n",
    "import numpy as np"
   ]
  },
  {
   "cell_type": "code",
   "execution_count": 9,
   "metadata": {},
   "outputs": [
    {
     "data": {
      "text/html": [
       "<div>\n",
       "<style scoped>\n",
       "    .dataframe tbody tr th:only-of-type {\n",
       "        vertical-align: middle;\n",
       "    }\n",
       "\n",
       "    .dataframe tbody tr th {\n",
       "        vertical-align: top;\n",
       "    }\n",
       "\n",
       "    .dataframe thead th {\n",
       "        text-align: right;\n",
       "    }\n",
       "</style>\n",
       "<table border=\"1\" class=\"dataframe\">\n",
       "  <thead>\n",
       "    <tr style=\"text-align: right;\">\n",
       "      <th></th>\n",
       "      <th>geno</th>\n",
       "      <th>trt</th>\n",
       "      <th>rep</th>\n",
       "      <th>BM</th>\n",
       "      <th>TPN</th>\n",
       "      <th>TPW</th>\n",
       "      <th>TSW</th>\n",
       "      <th>OC</th>\n",
       "    </tr>\n",
       "  </thead>\n",
       "  <tbody>\n",
       "    <tr>\n",
       "      <th>0</th>\n",
       "      <td>Mercedes</td>\n",
       "      <td>Control</td>\n",
       "      <td>1</td>\n",
       "      <td>24.95</td>\n",
       "      <td>490</td>\n",
       "      <td>56.47</td>\n",
       "      <td>33</td>\n",
       "      <td>46.36363636</td>\n",
       "    </tr>\n",
       "    <tr>\n",
       "      <th>1</th>\n",
       "      <td>Mercedes</td>\n",
       "      <td>Control</td>\n",
       "      <td>2</td>\n",
       "      <td>25.51</td>\n",
       "      <td>583</td>\n",
       "      <td>64.27</td>\n",
       "      <td>34.55</td>\n",
       "      <td>43.15120712</td>\n",
       "    </tr>\n",
       "    <tr>\n",
       "      <th>2</th>\n",
       "      <td>Mercedes</td>\n",
       "      <td>Control</td>\n",
       "      <td>3</td>\n",
       "      <td>33.56</td>\n",
       "      <td>455</td>\n",
       "      <td>47.78</td>\n",
       "      <td>27.77</td>\n",
       "      <td>42.91187739</td>\n",
       "    </tr>\n",
       "    <tr>\n",
       "      <th>3</th>\n",
       "      <td>Mercedes</td>\n",
       "      <td>HNT</td>\n",
       "      <td>1</td>\n",
       "      <td>26.9</td>\n",
       "      <td>471</td>\n",
       "      <td>54.32</td>\n",
       "      <td>30.85</td>\n",
       "      <td>44.7715736</td>\n",
       "    </tr>\n",
       "    <tr>\n",
       "      <th>4</th>\n",
       "      <td>Mercedes</td>\n",
       "      <td>HNT</td>\n",
       "      <td>2</td>\n",
       "      <td>26.61</td>\n",
       "      <td>462</td>\n",
       "      <td>47.31</td>\n",
       "      <td>25.73</td>\n",
       "      <td>41.7115629</td>\n",
       "    </tr>\n",
       "  </tbody>\n",
       "</table>\n",
       "</div>"
      ],
      "text/plain": [
       "       geno      trt  rep     BM  TPN    TPW    TSW          OC \n",
       "0  Mercedes  Control    1  24.95  490  56.47     33  46.36363636\n",
       "1  Mercedes  Control    2  25.51  583  64.27  34.55  43.15120712\n",
       "2  Mercedes  Control    3  33.56  455  47.78  27.77  42.91187739\n",
       "3  Mercedes      HNT    1   26.9  471  54.32  30.85   44.7715736\n",
       "4  Mercedes      HNT    2  26.61  462  47.31  25.73   41.7115629"
      ]
     },
     "execution_count": 9,
     "metadata": {},
     "output_type": "execute_result"
    }
   ],
   "source": [
    "# Importing data\n",
    "#Two ways of working with data files\n",
    "\n",
    "#1 working with data directly from the web \n",
    "#dirname = 'https://raw.githubusercontent.com/pokharelmeg/Semester-Project/master/datasets/'\n",
    "#filename = 'HNT_Yield_Data_Ex1.csv'\n",
    "#df= pd.read_csv(dirname + filename)\n",
    "\n",
    "#2 working with uploaded data file by making datasets folder in the repository \n",
    "df = pd.read_csv('datasets/HNT_Yield_Data_Ex1.csv')\n",
    "df.head()\n",
    "#print(type(df)"
   ]
  },
  {
   "cell_type": "code",
   "execution_count": 26,
   "metadata": {},
   "outputs": [
    {
     "name": "stdout",
     "output_type": "stream",
     "text": [
      "     geno      trt  rep     BM    TPN    TPW    TSW        OC \n",
      "55  Hekip  Control    2  36.69  406.0  48.24  26.14  41.698842\n",
      "56  Hekip  Control    3  33.76    NaN    NaN    NaN        NaN\n",
      "57  Hekip      HNT    1  26.60  417.0  26.49  12.80  38.461538\n",
      "58  Hekip      HNT    2  27.96  414.0  39.98  22.63  33.974026\n",
      "59  Hekip      HNT    3  23.22    NaN    NaN    NaN  34.330709\n",
      "<class 'pandas.core.frame.DataFrame'>\n"
     ]
    }
   ],
   "source": [
    "# Handling with missing values\n",
    "#df.isna().sum() # to check the missing values in the dataframe\n",
    "missing_values = [\"m\"]\n",
    "df = pd.read_csv('datasets/HNT_Yield_Data_Ex1.csv', na_values = missing_values)\n",
    "print(df.tail(5))\n",
    "print(type(df))"
   ]
  },
  {
   "cell_type": "code",
   "execution_count": null,
   "metadata": {},
   "outputs": [],
   "source": [
    "# Calculations"
   ]
  }
 ],
 "metadata": {
  "kernelspec": {
   "display_name": "Python 3",
   "language": "python",
   "name": "python3"
  },
  "language_info": {
   "codemirror_mode": {
    "name": "ipython",
    "version": 3
   },
   "file_extension": ".py",
   "mimetype": "text/x-python",
   "name": "python",
   "nbconvert_exporter": "python",
   "pygments_lexer": "ipython3",
   "version": "3.7.1"
  }
 },
 "nbformat": 4,
 "nbformat_minor": 2
}
