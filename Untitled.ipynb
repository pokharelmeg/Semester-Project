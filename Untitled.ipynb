{
 "cells": [
  {
   "cell_type": "code",
   "execution_count": 2,
   "metadata": {},
   "outputs": [
    {
     "name": "stdout",
     "output_type": "stream",
     "text": [
      "range(0, 5)\n"
     ]
    }
   ],
   "source": [
    "# data\n",
    "list_of_items = range(0,5)\n",
    "print(list_of_items)\n"
   ]
  },
  {
   "cell_type": "code",
   "execution_count": 4,
   "metadata": {},
   "outputs": [
    {
     "name": "stdout",
     "output_type": "stream",
     "text": [
      "0\n",
      "1\n",
      "2\n",
      "3\n",
      "4\n"
     ]
    }
   ],
   "source": [
    "for item in list_of_items:\n",
    "    print(item)"
   ]
  },
  {
   "cell_type": "code",
   "execution_count": 8,
   "metadata": {},
   "outputs": [
    {
     "ename": "SyntaxError",
     "evalue": "invalid syntax (<ipython-input-8-107a6e02aa6f>, line 1)",
     "output_type": "error",
     "traceback": [
      "\u001b[1;36m  File \u001b[1;32m\"<ipython-input-8-107a6e02aa6f>\"\u001b[1;36m, line \u001b[1;32m1\u001b[0m\n\u001b[1;33m    soils = ['mollisols','hapludols,'alfisoils']\u001b[0m\n\u001b[1;37m                                             ^\u001b[0m\n\u001b[1;31mSyntaxError\u001b[0m\u001b[1;31m:\u001b[0m invalid syntax\n"
     ]
    }
   ],
   "source": [
    "soils = ['mollisols','hapludols,'alfisoils']\n",
    "for soil in soils:\n",
    "        print(soils)"
   ]
  },
  {
   "cell_type": "code",
   "execution_count": 9,
   "metadata": {},
   "outputs": [
    {
     "name": "stdout",
     "output_type": "stream",
     "text": [
      "plots 1 a\n",
      "plots 1 b\n",
      "plots 1 c\n",
      "plots 2 a\n",
      "plots 2 b\n",
      "plots 2 c\n",
      "plots 3 a\n",
      "plots 3 b\n",
      "plots 3 c\n"
     ]
    }
   ],
   "source": [
    "plots = range(1,4)\n",
    "treatments = ['a','b','c']\n",
    "for plot in plots:\n",
    "    for tmt in treatments:\n",
    "        print('plots',plot,tmt)"
   ]
  },
  {
   "cell_type": "code",
   "execution_count": 13,
   "metadata": {},
   "outputs": [],
   "source": [
    "plots = range(1,4)\n",
    "treatments = ['a','b','c']\n",
    "myplots = []\n",
    "for plot in plots:\n",
    "    for tmt in treatments:\n",
    "        myplots.append(str(plot)+tmt)"
   ]
  },
  {
   "cell_type": "code",
   "execution_count": 14,
   "metadata": {},
   "outputs": [
    {
     "data": {
      "text/plain": [
       "['1a', '1b', '1c', '2a', '2b', '2c', '3a', '3b', '3c']"
      ]
     },
     "execution_count": 14,
     "metadata": {},
     "output_type": "execute_result"
    }
   ],
   "source": [
    "myplots"
   ]
  },
  {
   "cell_type": "code",
   "execution_count": 17,
   "metadata": {},
   "outputs": [
    {
     "ename": "SyntaxError",
     "evalue": "invalid syntax (<ipython-input-17-0f9b43810a20>, line 4)",
     "output_type": "error",
     "traceback": [
      "\u001b[1;36m  File \u001b[1;32m\"<ipython-input-17-0f9b43810a20>\"\u001b[1;36m, line \u001b[1;32m4\u001b[0m\n\u001b[1;33m    if i==5,\u001b[0m\n\u001b[1;37m           ^\u001b[0m\n\u001b[1;31mSyntaxError\u001b[0m\u001b[1;31m:\u001b[0m invalid syntax\n"
     ]
    }
   ],
   "source": [
    "#break the for loop\n",
    "for i in range (10):\n",
    "    print(i)\n",
    "    if i==5,\n",
    "        break"
   ]
  },
  {
   "cell_type": "code",
   "execution_count": 20,
   "metadata": {},
   "outputs": [
    {
     "name": "stdout",
     "output_type": "stream",
     "text": [
      "This is a nice day\n"
     ]
    }
   ],
   "source": [
    "# if statemennts\n",
    "air_temperature =25\n",
    "if air_temperature == 25:\n",
    "    print('This is a nice day')\n",
    "else:\n",
    "    print('This is a ugly day')"
   ]
  },
  {
   "cell_type": "code",
   "execution_count": 24,
   "metadata": {},
   "outputs": [
    {
     "name": "stdout",
     "output_type": "stream",
     "text": [
      "Tt's odd\n"
     ]
    }
   ],
   "source": [
    "#even or odd\n",
    "mynumber = 9\n",
    "\n",
    "if mynumber % 2 == 0:\n",
    "    print(\"Tt's even\" )\n",
    "else:\n",
    "    print(\"Tt's odd\" )"
   ]
  },
  {
   "cell_type": "code",
   "execution_count": null,
   "metadata": {},
   "outputs": [],
   "source": []
  }
 ],
 "metadata": {
  "kernelspec": {
   "display_name": "Python 3",
   "language": "python",
   "name": "python3"
  },
  "language_info": {
   "codemirror_mode": {
    "name": "ipython",
    "version": 3
   },
   "file_extension": ".py",
   "mimetype": "text/x-python",
   "name": "python",
   "nbconvert_exporter": "python",
   "pygments_lexer": "ipython3",
   "version": "3.7.1"
  }
 },
 "nbformat": 4,
 "nbformat_minor": 2
}
