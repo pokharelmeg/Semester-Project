{
 "cells": [
  {
   "cell_type": "code",
   "execution_count": 5,
   "metadata": {},
   "outputs": [],
   "source": [
    "import pandas as pd\n",
    "import numpy as np\n",
    "import glob"
   ]
  },
  {
   "cell_type": "code",
   "execution_count": 6,
   "metadata": {},
   "outputs": [
    {
     "name": "stdout",
     "output_type": "stream",
     "text": [
      "C:\\Users\\mns_p\\Desktop\\Semester-Project\n"
     ]
    }
   ],
   "source": [
    "print(glob.os.getcwd())"
   ]
  },
  {
   "cell_type": "code",
   "execution_count": 10,
   "metadata": {},
   "outputs": [],
   "source": [
    "glob.os.chdir('datasets/')"
   ]
  },
  {
   "cell_type": "code",
   "execution_count": 11,
   "metadata": {},
   "outputs": [
    {
     "name": "stdout",
     "output_type": "stream",
     "text": [
      "C:\\Users\\mns_p\\Desktop\\Semester-Project\\Semester-Project\\datasets\n"
     ]
    }
   ],
   "source": [
    "print(glob.os.getcwd())"
   ]
  },
  {
   "cell_type": "code",
   "execution_count": 14,
   "metadata": {},
   "outputs": [
    {
     "data": {
      "text/html": [
       "<div>\n",
       "<style scoped>\n",
       "    .dataframe tbody tr th:only-of-type {\n",
       "        vertical-align: middle;\n",
       "    }\n",
       "\n",
       "    .dataframe tbody tr th {\n",
       "        vertical-align: top;\n",
       "    }\n",
       "\n",
       "    .dataframe thead th {\n",
       "        text-align: right;\n",
       "    }\n",
       "</style>\n",
       "<table border=\"1\" class=\"dataframe\">\n",
       "  <thead>\n",
       "    <tr style=\"text-align: right;\">\n",
       "      <th></th>\n",
       "      <th>geno</th>\n",
       "      <th>trt</th>\n",
       "      <th>rep</th>\n",
       "      <th>BM</th>\n",
       "      <th>TPN</th>\n",
       "      <th>TPW</th>\n",
       "      <th>TSW</th>\n",
       "      <th>OC</th>\n",
       "    </tr>\n",
       "  </thead>\n",
       "  <tbody>\n",
       "    <tr>\n",
       "      <th>0</th>\n",
       "      <td>Mercedes</td>\n",
       "      <td>Control</td>\n",
       "      <td>1</td>\n",
       "      <td>24.95</td>\n",
       "      <td>490</td>\n",
       "      <td>56.47</td>\n",
       "      <td>33</td>\n",
       "      <td>46.36363636</td>\n",
       "    </tr>\n",
       "    <tr>\n",
       "      <th>1</th>\n",
       "      <td>Mercedes</td>\n",
       "      <td>Control</td>\n",
       "      <td>2</td>\n",
       "      <td>25.51</td>\n",
       "      <td>583</td>\n",
       "      <td>64.27</td>\n",
       "      <td>34.55</td>\n",
       "      <td>43.15120712</td>\n",
       "    </tr>\n",
       "    <tr>\n",
       "      <th>2</th>\n",
       "      <td>Mercedes</td>\n",
       "      <td>Control</td>\n",
       "      <td>3</td>\n",
       "      <td>33.56</td>\n",
       "      <td>455</td>\n",
       "      <td>47.78</td>\n",
       "      <td>27.77</td>\n",
       "      <td>42.91187739</td>\n",
       "    </tr>\n",
       "    <tr>\n",
       "      <th>3</th>\n",
       "      <td>Mercedes</td>\n",
       "      <td>HNT</td>\n",
       "      <td>1</td>\n",
       "      <td>26.9</td>\n",
       "      <td>471</td>\n",
       "      <td>54.32</td>\n",
       "      <td>30.85</td>\n",
       "      <td>44.7715736</td>\n",
       "    </tr>\n",
       "    <tr>\n",
       "      <th>4</th>\n",
       "      <td>Mercedes</td>\n",
       "      <td>HNT</td>\n",
       "      <td>2</td>\n",
       "      <td>26.61</td>\n",
       "      <td>462</td>\n",
       "      <td>47.31</td>\n",
       "      <td>25.73</td>\n",
       "      <td>41.7115629</td>\n",
       "    </tr>\n",
       "  </tbody>\n",
       "</table>\n",
       "</div>"
      ],
      "text/plain": [
       "       geno      trt  rep     BM  TPN    TPW    TSW          OC \n",
       "0  Mercedes  Control    1  24.95  490  56.47     33  46.36363636\n",
       "1  Mercedes  Control    2  25.51  583  64.27  34.55  43.15120712\n",
       "2  Mercedes  Control    3  33.56  455  47.78  27.77  42.91187739\n",
       "3  Mercedes      HNT    1   26.9  471  54.32  30.85   44.7715736\n",
       "4  Mercedes      HNT    2  26.61  462  47.31  25.73   41.7115629"
      ]
     },
     "execution_count": 14,
     "metadata": {},
     "output_type": "execute_result"
    }
   ],
   "source": [
    "df = pd.read_csv('HNT_Yield_Data _Ex1.csv')\n",
    "df.head()\n",
    "#print(type(df))\n"
   ]
  },
  {
   "cell_type": "code",
   "execution_count": null,
   "metadata": {},
   "outputs": [],
   "source": []
  }
 ],
 "metadata": {
  "kernelspec": {
   "display_name": "Python 3",
   "language": "python",
   "name": "python3"
  },
  "language_info": {
   "codemirror_mode": {
    "name": "ipython",
    "version": 3
   },
   "file_extension": ".py",
   "mimetype": "text/x-python",
   "name": "python",
   "nbconvert_exporter": "python",
   "pygments_lexer": "ipython3",
   "version": "3.7.1"
  }
 },
 "nbformat": 4,
 "nbformat_minor": 2
}
